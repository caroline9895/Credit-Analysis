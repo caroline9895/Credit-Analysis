{
 "cells": [
  {
   "cell_type": "markdown",
   "metadata": {},
   "source": [
    "## Exploratory Data Analysis"
   ]
  },
  {
   "cell_type": "code",
   "execution_count": 1,
   "metadata": {},
   "outputs": [],
   "source": [
    "# import packages\n",
    "\n",
    "import numpy as np\n",
    "import pandas as pd\n",
    "import matplotlib.pyplot as plt\n",
    "%matplotlib inline\n",
    "import seaborn as sns"
   ]
  },
  {
   "cell_type": "code",
   "execution_count": 3,
   "metadata": {},
   "outputs": [],
   "source": [
    "# read the data\n",
    "\n",
    "FullData=pd.read_csv('cs-training.csv')"
   ]
  },
  {
   "cell_type": "code",
   "execution_count": 4,
   "metadata": {},
   "outputs": [
    {
     "data": {
      "text/plain": [
       "(150000, 12)"
      ]
     },
     "execution_count": 4,
     "metadata": {},
     "output_type": "execute_result"
    }
   ],
   "source": [
    "FullData.shape"
   ]
  },
  {
   "cell_type": "code",
   "execution_count": 5,
   "metadata": {},
   "outputs": [
    {
     "data": {
      "text/html": [
       "<div>\n",
       "<style scoped>\n",
       "    .dataframe tbody tr th:only-of-type {\n",
       "        vertical-align: middle;\n",
       "    }\n",
       "\n",
       "    .dataframe tbody tr th {\n",
       "        vertical-align: top;\n",
       "    }\n",
       "\n",
       "    .dataframe thead th {\n",
       "        text-align: right;\n",
       "    }\n",
       "</style>\n",
       "<table border=\"1\" class=\"dataframe\">\n",
       "  <thead>\n",
       "    <tr style=\"text-align: right;\">\n",
       "      <th></th>\n",
       "      <th>Unnamed: 0</th>\n",
       "      <th>SeriousDlqin2yrs</th>\n",
       "      <th>RevolvingUtilizationOfUnsecuredLines</th>\n",
       "      <th>age</th>\n",
       "      <th>NumberOfTime30-59DaysPastDueNotWorse</th>\n",
       "      <th>DebtRatio</th>\n",
       "      <th>MonthlyIncome</th>\n",
       "      <th>NumberOfOpenCreditLinesAndLoans</th>\n",
       "      <th>NumberOfTimes90DaysLate</th>\n",
       "      <th>NumberRealEstateLoansOrLines</th>\n",
       "      <th>NumberOfTime60-89DaysPastDueNotWorse</th>\n",
       "      <th>NumberOfDependents</th>\n",
       "    </tr>\n",
       "  </thead>\n",
       "  <tbody>\n",
       "    <tr>\n",
       "      <th>0</th>\n",
       "      <td>1</td>\n",
       "      <td>1</td>\n",
       "      <td>0.766127</td>\n",
       "      <td>45</td>\n",
       "      <td>2</td>\n",
       "      <td>0.802982</td>\n",
       "      <td>9120.0</td>\n",
       "      <td>13</td>\n",
       "      <td>0</td>\n",
       "      <td>6</td>\n",
       "      <td>0</td>\n",
       "      <td>2.0</td>\n",
       "    </tr>\n",
       "    <tr>\n",
       "      <th>1</th>\n",
       "      <td>2</td>\n",
       "      <td>0</td>\n",
       "      <td>0.957151</td>\n",
       "      <td>40</td>\n",
       "      <td>0</td>\n",
       "      <td>0.121876</td>\n",
       "      <td>2600.0</td>\n",
       "      <td>4</td>\n",
       "      <td>0</td>\n",
       "      <td>0</td>\n",
       "      <td>0</td>\n",
       "      <td>1.0</td>\n",
       "    </tr>\n",
       "    <tr>\n",
       "      <th>2</th>\n",
       "      <td>3</td>\n",
       "      <td>0</td>\n",
       "      <td>0.658180</td>\n",
       "      <td>38</td>\n",
       "      <td>1</td>\n",
       "      <td>0.085113</td>\n",
       "      <td>3042.0</td>\n",
       "      <td>2</td>\n",
       "      <td>1</td>\n",
       "      <td>0</td>\n",
       "      <td>0</td>\n",
       "      <td>0.0</td>\n",
       "    </tr>\n",
       "    <tr>\n",
       "      <th>3</th>\n",
       "      <td>4</td>\n",
       "      <td>0</td>\n",
       "      <td>0.233810</td>\n",
       "      <td>30</td>\n",
       "      <td>0</td>\n",
       "      <td>0.036050</td>\n",
       "      <td>3300.0</td>\n",
       "      <td>5</td>\n",
       "      <td>0</td>\n",
       "      <td>0</td>\n",
       "      <td>0</td>\n",
       "      <td>0.0</td>\n",
       "    </tr>\n",
       "    <tr>\n",
       "      <th>4</th>\n",
       "      <td>5</td>\n",
       "      <td>0</td>\n",
       "      <td>0.907239</td>\n",
       "      <td>49</td>\n",
       "      <td>1</td>\n",
       "      <td>0.024926</td>\n",
       "      <td>63588.0</td>\n",
       "      <td>7</td>\n",
       "      <td>0</td>\n",
       "      <td>1</td>\n",
       "      <td>0</td>\n",
       "      <td>0.0</td>\n",
       "    </tr>\n",
       "  </tbody>\n",
       "</table>\n",
       "</div>"
      ],
      "text/plain": [
       "   Unnamed: 0  SeriousDlqin2yrs  RevolvingUtilizationOfUnsecuredLines  age  \\\n",
       "0           1                 1                              0.766127   45   \n",
       "1           2                 0                              0.957151   40   \n",
       "2           3                 0                              0.658180   38   \n",
       "3           4                 0                              0.233810   30   \n",
       "4           5                 0                              0.907239   49   \n",
       "\n",
       "   NumberOfTime30-59DaysPastDueNotWorse  DebtRatio  MonthlyIncome  \\\n",
       "0                                     2   0.802982         9120.0   \n",
       "1                                     0   0.121876         2600.0   \n",
       "2                                     1   0.085113         3042.0   \n",
       "3                                     0   0.036050         3300.0   \n",
       "4                                     1   0.024926        63588.0   \n",
       "\n",
       "   NumberOfOpenCreditLinesAndLoans  NumberOfTimes90DaysLate  \\\n",
       "0                               13                        0   \n",
       "1                                4                        0   \n",
       "2                                2                        1   \n",
       "3                                5                        0   \n",
       "4                                7                        0   \n",
       "\n",
       "   NumberRealEstateLoansOrLines  NumberOfTime60-89DaysPastDueNotWorse  \\\n",
       "0                             6                                     0   \n",
       "1                             0                                     0   \n",
       "2                             0                                     0   \n",
       "3                             0                                     0   \n",
       "4                             1                                     0   \n",
       "\n",
       "   NumberOfDependents  \n",
       "0                 2.0  \n",
       "1                 1.0  \n",
       "2                 0.0  \n",
       "3                 0.0  \n",
       "4                 0.0  "
      ]
     },
     "execution_count": 5,
     "metadata": {},
     "output_type": "execute_result"
    }
   ],
   "source": [
    "FullData.head()"
   ]
  },
  {
   "cell_type": "code",
   "execution_count": 7,
   "metadata": {},
   "outputs": [
    {
     "data": {
      "text/plain": [
       "Index(['Unnamed: 0', 'SeriousDlqin2yrs',\n",
       "       'RevolvingUtilizationOfUnsecuredLines', 'age',\n",
       "       'NumberOfTime30-59DaysPastDueNotWorse', 'DebtRatio', 'MonthlyIncome',\n",
       "       'NumberOfOpenCreditLinesAndLoans', 'NumberOfTimes90DaysLate',\n",
       "       'NumberRealEstateLoansOrLines', 'NumberOfTime60-89DaysPastDueNotWorse',\n",
       "       'NumberOfDependents'],\n",
       "      dtype='object')"
      ]
     },
     "execution_count": 7,
     "metadata": {},
     "output_type": "execute_result"
    }
   ],
   "source": [
    "FullData.columns"
   ]
  },
  {
   "cell_type": "code",
   "execution_count": 8,
   "metadata": {},
   "outputs": [
    {
     "data": {
      "text/html": [
       "<div>\n",
       "<style scoped>\n",
       "    .dataframe tbody tr th:only-of-type {\n",
       "        vertical-align: middle;\n",
       "    }\n",
       "\n",
       "    .dataframe tbody tr th {\n",
       "        vertical-align: top;\n",
       "    }\n",
       "\n",
       "    .dataframe thead th {\n",
       "        text-align: right;\n",
       "    }\n",
       "</style>\n",
       "<table border=\"1\" class=\"dataframe\">\n",
       "  <thead>\n",
       "    <tr style=\"text-align: right;\">\n",
       "      <th></th>\n",
       "      <th>SeriousDlqin2yrs</th>\n",
       "      <th>RevolvingUtilizationOfUnsecuredLines</th>\n",
       "      <th>age</th>\n",
       "      <th>NumberOfTime30-59DaysPastDueNotWorse</th>\n",
       "      <th>DebtRatio</th>\n",
       "      <th>MonthlyIncome</th>\n",
       "      <th>NumberOfOpenCreditLinesAndLoans</th>\n",
       "      <th>NumberOfTimes90DaysLate</th>\n",
       "      <th>NumberRealEstateLoansOrLines</th>\n",
       "      <th>NumberOfTime60-89DaysPastDueNotWorse</th>\n",
       "      <th>NumberOfDependents</th>\n",
       "    </tr>\n",
       "    <tr>\n",
       "      <th>Index</th>\n",
       "      <th></th>\n",
       "      <th></th>\n",
       "      <th></th>\n",
       "      <th></th>\n",
       "      <th></th>\n",
       "      <th></th>\n",
       "      <th></th>\n",
       "      <th></th>\n",
       "      <th></th>\n",
       "      <th></th>\n",
       "      <th></th>\n",
       "    </tr>\n",
       "  </thead>\n",
       "  <tbody>\n",
       "    <tr>\n",
       "      <th>1</th>\n",
       "      <td>1</td>\n",
       "      <td>0.766127</td>\n",
       "      <td>45</td>\n",
       "      <td>2</td>\n",
       "      <td>0.802982</td>\n",
       "      <td>9120.0</td>\n",
       "      <td>13</td>\n",
       "      <td>0</td>\n",
       "      <td>6</td>\n",
       "      <td>0</td>\n",
       "      <td>2.0</td>\n",
       "    </tr>\n",
       "    <tr>\n",
       "      <th>2</th>\n",
       "      <td>0</td>\n",
       "      <td>0.957151</td>\n",
       "      <td>40</td>\n",
       "      <td>0</td>\n",
       "      <td>0.121876</td>\n",
       "      <td>2600.0</td>\n",
       "      <td>4</td>\n",
       "      <td>0</td>\n",
       "      <td>0</td>\n",
       "      <td>0</td>\n",
       "      <td>1.0</td>\n",
       "    </tr>\n",
       "    <tr>\n",
       "      <th>3</th>\n",
       "      <td>0</td>\n",
       "      <td>0.658180</td>\n",
       "      <td>38</td>\n",
       "      <td>1</td>\n",
       "      <td>0.085113</td>\n",
       "      <td>3042.0</td>\n",
       "      <td>2</td>\n",
       "      <td>1</td>\n",
       "      <td>0</td>\n",
       "      <td>0</td>\n",
       "      <td>0.0</td>\n",
       "    </tr>\n",
       "    <tr>\n",
       "      <th>4</th>\n",
       "      <td>0</td>\n",
       "      <td>0.233810</td>\n",
       "      <td>30</td>\n",
       "      <td>0</td>\n",
       "      <td>0.036050</td>\n",
       "      <td>3300.0</td>\n",
       "      <td>5</td>\n",
       "      <td>0</td>\n",
       "      <td>0</td>\n",
       "      <td>0</td>\n",
       "      <td>0.0</td>\n",
       "    </tr>\n",
       "    <tr>\n",
       "      <th>5</th>\n",
       "      <td>0</td>\n",
       "      <td>0.907239</td>\n",
       "      <td>49</td>\n",
       "      <td>1</td>\n",
       "      <td>0.024926</td>\n",
       "      <td>63588.0</td>\n",
       "      <td>7</td>\n",
       "      <td>0</td>\n",
       "      <td>1</td>\n",
       "      <td>0</td>\n",
       "      <td>0.0</td>\n",
       "    </tr>\n",
       "  </tbody>\n",
       "</table>\n",
       "</div>"
      ],
      "text/plain": [
       "       SeriousDlqin2yrs  RevolvingUtilizationOfUnsecuredLines  age  \\\n",
       "Index                                                                \n",
       "1                     1                              0.766127   45   \n",
       "2                     0                              0.957151   40   \n",
       "3                     0                              0.658180   38   \n",
       "4                     0                              0.233810   30   \n",
       "5                     0                              0.907239   49   \n",
       "\n",
       "       NumberOfTime30-59DaysPastDueNotWorse  DebtRatio  MonthlyIncome  \\\n",
       "Index                                                                   \n",
       "1                                         2   0.802982         9120.0   \n",
       "2                                         0   0.121876         2600.0   \n",
       "3                                         1   0.085113         3042.0   \n",
       "4                                         0   0.036050         3300.0   \n",
       "5                                         1   0.024926        63588.0   \n",
       "\n",
       "       NumberOfOpenCreditLinesAndLoans  NumberOfTimes90DaysLate  \\\n",
       "Index                                                             \n",
       "1                                   13                        0   \n",
       "2                                    4                        0   \n",
       "3                                    2                        1   \n",
       "4                                    5                        0   \n",
       "5                                    7                        0   \n",
       "\n",
       "       NumberRealEstateLoansOrLines  NumberOfTime60-89DaysPastDueNotWorse  \\\n",
       "Index                                                                       \n",
       "1                                 6                                     0   \n",
       "2                                 0                                     0   \n",
       "3                                 0                                     0   \n",
       "4                                 0                                     0   \n",
       "5                                 1                                     0   \n",
       "\n",
       "       NumberOfDependents  \n",
       "Index                      \n",
       "1                     2.0  \n",
       "2                     1.0  \n",
       "3                     0.0  \n",
       "4                     0.0  \n",
       "5                     0.0  "
      ]
     },
     "execution_count": 8,
     "metadata": {},
     "output_type": "execute_result"
    }
   ],
   "source": [
    "FullData=FullData.rename(columns={'Unnamed: 0':'Index'})\n",
    "FullData=FullData.set_index('Index')\n",
    "FullData.head()"
   ]
  },
  {
   "cell_type": "code",
   "execution_count": 9,
   "metadata": {},
   "outputs": [
    {
     "name": "stdout",
     "output_type": "stream",
     "text": [
      "<class 'pandas.core.frame.DataFrame'>\n",
      "Int64Index: 150000 entries, 1 to 150000\n",
      "Data columns (total 11 columns):\n",
      " #   Column                                Non-Null Count   Dtype  \n",
      "---  ------                                --------------   -----  \n",
      " 0   SeriousDlqin2yrs                      150000 non-null  int64  \n",
      " 1   RevolvingUtilizationOfUnsecuredLines  150000 non-null  float64\n",
      " 2   age                                   150000 non-null  int64  \n",
      " 3   NumberOfTime30-59DaysPastDueNotWorse  150000 non-null  int64  \n",
      " 4   DebtRatio                             150000 non-null  float64\n",
      " 5   MonthlyIncome                         120269 non-null  float64\n",
      " 6   NumberOfOpenCreditLinesAndLoans       150000 non-null  int64  \n",
      " 7   NumberOfTimes90DaysLate               150000 non-null  int64  \n",
      " 8   NumberRealEstateLoansOrLines          150000 non-null  int64  \n",
      " 9   NumberOfTime60-89DaysPastDueNotWorse  150000 non-null  int64  \n",
      " 10  NumberOfDependents                    146076 non-null  float64\n",
      "dtypes: float64(4), int64(7)\n",
      "memory usage: 13.7 MB\n"
     ]
    }
   ],
   "source": [
    "FullData.info()"
   ]
  },
  {
   "cell_type": "code",
   "execution_count": 10,
   "metadata": {},
   "outputs": [
    {
     "data": {
      "text/plain": [
       "SeriousDlqin2yrs                            0\n",
       "RevolvingUtilizationOfUnsecuredLines        0\n",
       "age                                         0\n",
       "NumberOfTime30-59DaysPastDueNotWorse        0\n",
       "DebtRatio                                   0\n",
       "MonthlyIncome                           29731\n",
       "NumberOfOpenCreditLinesAndLoans             0\n",
       "NumberOfTimes90DaysLate                     0\n",
       "NumberRealEstateLoansOrLines                0\n",
       "NumberOfTime60-89DaysPastDueNotWorse        0\n",
       "NumberOfDependents                       3924\n",
       "dtype: int64"
      ]
     },
     "execution_count": 10,
     "metadata": {},
     "output_type": "execute_result"
    }
   ],
   "source": [
    "FullData.isnull().sum()"
   ]
  },
  {
   "cell_type": "code",
   "execution_count": 11,
   "metadata": {},
   "outputs": [
    {
     "data": {
      "text/plain": [
       "0    139974\n",
       "1     10026\n",
       "Name: SeriousDlqin2yrs, dtype: int64"
      ]
     },
     "execution_count": 11,
     "metadata": {},
     "output_type": "execute_result"
    }
   ],
   "source": [
    "# response variable\n",
    "\n",
    "FullData.SeriousDlqin2yrs.value_counts()"
   ]
  },
  {
   "cell_type": "code",
   "execution_count": 12,
   "metadata": {},
   "outputs": [
    {
     "data": {
      "text/plain": [
       "count    150000.000000\n",
       "mean          6.048438\n",
       "std         249.755371\n",
       "min           0.000000\n",
       "25%           0.029867\n",
       "50%           0.154181\n",
       "75%           0.559046\n",
       "max       50708.000000\n",
       "Name: RevolvingUtilizationOfUnsecuredLines, dtype: float64"
      ]
     },
     "execution_count": 12,
     "metadata": {},
     "output_type": "execute_result"
    }
   ],
   "source": [
    "# explanatory variables--RevolvingUtilizationOfUnsecuredLines\n",
    "\n",
    "FullData.RevolvingUtilizationOfUnsecuredLines.describe()"
   ]
  },
  {
   "cell_type": "code",
   "execution_count": 17,
   "metadata": {},
   "outputs": [
    {
     "data": {
      "text/plain": [
       "<matplotlib.axes._subplots.AxesSubplot at 0x1a35c096708>"
      ]
     },
     "execution_count": 17,
     "metadata": {},
     "output_type": "execute_result"
    },
    {
     "data": {
      "image/png": "[encoded data removed]",
      "text/plain": [
       "<Figure size 432x288 with 1 Axes>"
      ]
     },
     "metadata": {},
     "output_type": "display_data"
    }
   ],
   "source": [
    "sns.set_style('whitegrid')\n",
    "sns.distplot(np.log(FullData.RevolvingUtilizationOfUnsecuredLines+1),kde=False, color='b')"
   ]
  },
  {
   "cell_type": "code",
   "execution_count": 13,
   "metadata": {},
   "outputs": [
    {
     "data": {
      "text/plain": [
       "0.05991996127598361"
      ]
     },
     "execution_count": 13,
     "metadata": {},
     "output_type": "execute_result"
    }
   ],
   "source": [
    "## Proportion of Defaulters with Total Amount of Money Owed Not Exceeding Total Credit Limit:\n",
    "\n",
    "FullData[(FullData.RevolvingUtilizationOfUnsecuredLines>=0) & (FullData.RevolvingUtilizationOfUnsecuredLines<=1)].SeriousDlqin2yrs.mean()"
   ]
  },
  {
   "cell_type": "code",
   "execution_count": 16,
   "metadata": {},
   "outputs": [],
   "source": [
    "default_prop = []\n",
    "for i in range(int(FullData[\"RevolvingUtilizationOfUnsecuredLines\"].max())):\n",
    "    temp_ = FullData[FullData[\"RevolvingUtilizationOfUnsecuredLines\"] >= i]\n",
    "    default_prop.append([i, temp_[\"SeriousDlqin2yrs\"].mean()])\n",
    "    default_prop"
   ]
  },
  {
   "cell_type": "code",
   "execution_count": 18,
   "metadata": {},
   "outputs": [
    {
     "data": {
      "text/plain": [
       "count    150000.000000\n",
       "mean         52.295207\n",
       "std          14.771866\n",
       "min           0.000000\n",
       "25%          41.000000\n",
       "50%          52.000000\n",
       "75%          63.000000\n",
       "max         109.000000\n",
       "Name: age, dtype: float64"
      ]
     },
     "execution_count": 18,
     "metadata": {},
     "output_type": "execute_result"
    }
   ],
   "source": [
    "# explanatory variables--age\n",
    "\n",
    "FullData.age.describe()"
   ]
  },
  {
   "cell_type": "code",
   "execution_count": 19,
   "metadata": {},
   "outputs": [
    {
     "data": {
      "text/plain": [
       "<matplotlib.axes._subplots.AxesSubplot at 0x1a35c1de988>"
      ]
     },
     "execution_count": 19,
     "metadata": {},
     "output_type": "execute_result"
    },
    {
     "data": {
      "image/png": "[encoded data removed]",
      "text/plain": [
       "<Figure size 432x288 with 1 Axes>"
      ]
     },
     "metadata": {},
     "output_type": "display_data"
    }
   ],
   "source": [
    "sns.countplot(x='age', data=FullData, color='b')"
   ]
  },
  {
   "cell_type": "code",
   "execution_count": 20,
   "metadata": {},
   "outputs": [
    {
     "data": {
      "text/plain": [
       "<matplotlib.axes._subplots.AxesSubplot at 0x1a35d73cb08>"
      ]
     },
     "execution_count": 20,
     "metadata": {},
     "output_type": "execute_result"
    },
    {
     "data": {
      "image/png": "[encoded data removed]",
      "text/plain": [
       "<Figure size 432x288 with 1 Axes>"
      ]
     },
     "metadata": {},
     "output_type": "display_data"
    }
   ],
   "source": [
    "sns.countplot(x='age', hue='SeriousDlqin2yrs', data=FullData)"
   ]
  },
  {
   "cell_type": "code",
   "execution_count": 30,
   "metadata": {},
   "outputs": [
    {
     "data": {
      "text/plain": [
       "count    150000.000000\n",
       "mean        353.005076\n",
       "std        2037.818523\n",
       "min           0.000000\n",
       "25%           0.175074\n",
       "50%           0.366508\n",
       "75%           0.868254\n",
       "max      329664.000000\n",
       "Name: DebtRatio, dtype: float64"
      ]
     },
     "execution_count": 30,
     "metadata": {},
     "output_type": "execute_result"
    }
   ],
   "source": [
    "# explanatory variables--DebtRatio\n",
    "\n",
    "FullData.DebtRatio.describe()"
   ]
  },
  {
   "cell_type": "code",
   "execution_count": 40,
   "metadata": {},
   "outputs": [
    {
     "data": {
      "text/plain": [
       "0.7657533333333333"
      ]
     },
     "execution_count": 40,
     "metadata": {},
     "output_type": "execute_result"
    }
   ],
   "source": [
    "FullData[FullData.DebtRatio<=1.0].DebtRatio.count() / FullData.DebtRatio.count()"
   ]
  },
  {
   "cell_type": "code",
   "execution_count": 44,
   "metadata": {},
   "outputs": [
    {
     "data": {
      "text/plain": [
       "0.7930333333333334"
      ]
     },
     "execution_count": 44,
     "metadata": {},
     "output_type": "execute_result"
    }
   ],
   "source": [
    "FullData[FullData.DebtRatio<=2.0].DebtRatio.count() / FullData.DebtRatio.count()"
   ]
  },
  {
   "cell_type": "code",
   "execution_count": 31,
   "metadata": {},
   "outputs": [
    {
     "data": {
      "text/plain": [
       "<matplotlib.axes._subplots.AxesSubplot at 0x1a35dda6648>"
      ]
     },
     "execution_count": 31,
     "metadata": {},
     "output_type": "execute_result"
    },
    {
     "data": {
      "image/png": "[encoded data removed]",
      "text/plain": [
       "<Figure size 432x288 with 1 Axes>"
      ]
     },
     "metadata": {},
     "output_type": "display_data"
    }
   ],
   "source": [
    "sns.set_style('whitegrid')\n",
    "sns.distplot(FullData.DebtRatio,kde=False, color='b')"
   ]
  },
  {
   "cell_type": "code",
   "execution_count": 35,
   "metadata": {},
   "outputs": [
    {
     "data": {
      "text/plain": [
       "<matplotlib.axes._subplots.AxesSubplot at 0x1a35df235c8>"
      ]
     },
     "execution_count": 35,
     "metadata": {},
     "output_type": "execute_result"
    },
    {
     "data": {
      "image/png": "[encoded data removed]",
      "text/plain": [
       "<Figure size 432x288 with 1 Axes>"
      ]
     },
     "metadata": {},
     "output_type": "display_data"
    }
   ],
   "source": [
    "sns.distplot(np.log(FullData[FullData.SeriousDlqin2yrs==1].DebtRatio+1),kde=False, color='b')"
   ]
  },
  {
   "cell_type": "code",
   "execution_count": 36,
   "metadata": {},
   "outputs": [
    {
     "data": {
      "text/plain": [
       "<matplotlib.axes._subplots.AxesSubplot at 0x1a35eebb5c8>"
      ]
     },
     "execution_count": 36,
     "metadata": {},
     "output_type": "execute_result"
    },
    {
     "data": {
      "image/png": "[encoded data removed]",
      "text/plain": [
       "<Figure size 432x288 with 1 Axes>"
      ]
     },
     "metadata": {},
     "output_type": "display_data"
    }
   ],
   "source": [
    "sns.distplot(np.log(FullData[FullData.SeriousDlqin2yrs==0].DebtRatio+1),kde=False, color='b')"
   ]
  },
  {
   "cell_type": "code",
   "execution_count": 21,
   "metadata": {},
   "outputs": [
    {
     "data": {
      "text/plain": [
       "count    1.202690e+05\n",
       "mean     6.670221e+03\n",
       "std      1.438467e+04\n",
       "min      0.000000e+00\n",
       "25%      3.400000e+03\n",
       "50%      5.400000e+03\n",
       "75%      8.249000e+03\n",
       "max      3.008750e+06\n",
       "Name: MonthlyIncome, dtype: float64"
      ]
     },
     "execution_count": 21,
     "metadata": {},
     "output_type": "execute_result"
    }
   ],
   "source": [
    "# explanatory variables--MonthlyIncome\n",
    "\n",
    "FullData.MonthlyIncome.describe()"
   ]
  },
  {
   "cell_type": "code",
   "execution_count": 22,
   "metadata": {},
   "outputs": [
    {
     "data": {
      "text/plain": [
       "<matplotlib.axes._subplots.AxesSubplot at 0x1a35da1c648>"
      ]
     },
     "execution_count": 22,
     "metadata": {},
     "output_type": "execute_result"
    },
    {
     "data": {
      "image/png": "[encoded data removed]",
      "text/plain": [
       "<Figure size 432x288 with 1 Axes>"
      ]
     },
     "metadata": {},
     "output_type": "display_data"
    }
   ],
   "source": [
    "sns.distplot(np.log(FullData.MonthlyIncome+1),kde=False, color='b')"
   ]
  },
  {
   "cell_type": "code",
   "execution_count": 23,
   "metadata": {},
   "outputs": [
    {
     "data": {
      "text/plain": [
       "1634"
      ]
     },
     "execution_count": 23,
     "metadata": {},
     "output_type": "execute_result"
    }
   ],
   "source": [
    "FullData[FullData.MonthlyIncome==0].MonthlyIncome.count()"
   ]
  },
  {
   "cell_type": "code",
   "execution_count": 24,
   "metadata": {},
   "outputs": [
    {
     "data": {
      "text/plain": [
       "2277"
      ]
     },
     "execution_count": 24,
     "metadata": {},
     "output_type": "execute_result"
    }
   ],
   "source": [
    "FullData[FullData.MonthlyIncome<100].MonthlyIncome.count()"
   ]
  },
  {
   "cell_type": "code",
   "execution_count": 25,
   "metadata": {},
   "outputs": [
    {
     "data": {
      "text/plain": [
       "count     1634.000000\n",
       "mean      1573.567319\n",
       "std       2818.015889\n",
       "min          0.000000\n",
       "25%         96.000000\n",
       "50%        930.000000\n",
       "75%       2185.250000\n",
       "max      60212.000000\n",
       "Name: DebtRatio, dtype: float64"
      ]
     },
     "execution_count": 25,
     "metadata": {},
     "output_type": "execute_result"
    }
   ],
   "source": [
    "FullData[FullData.MonthlyIncome==0].DebtRatio.describe()"
   ]
  },
  {
   "cell_type": "code",
   "execution_count": 60,
   "metadata": {},
   "outputs": [
    {
     "data": {
      "text/plain": [
       "0.9331674010292288"
      ]
     },
     "execution_count": 60,
     "metadata": {},
     "output_type": "execute_result"
    }
   ],
   "source": [
    "FullData[FullData.DebtRatio>2].MonthlyIncome.isnull().sum()/FullData.MonthlyIncome.isnull().sum()"
   ]
  },
  {
   "cell_type": "code",
   "execution_count": 29,
   "metadata": {},
   "outputs": [
    {
     "data": {
      "text/plain": [
       "<matplotlib.axes._subplots.AxesSubplot at 0x1a35dd040c8>"
      ]
     },
     "execution_count": 29,
     "metadata": {},
     "output_type": "execute_result"
    },
    {
     "data": {
      "image/png": "[encoded data removed]",
      "text/plain": [
       "<Figure size 432x288 with 1 Axes>"
      ]
     },
     "metadata": {},
     "output_type": "display_data"
    }
   ],
   "source": [
    "sns.distplot(np.log(FullData[FullData.DebtRatio>2].MonthlyIncome+1),kde=False, color='b')"
   ]
  },
  {
   "cell_type": "code",
   "execution_count": 37,
   "metadata": {},
   "outputs": [
    {
     "data": {
      "text/plain": [
       "0.4589518327779461"
      ]
     },
     "execution_count": 37,
     "metadata": {},
     "output_type": "execute_result"
    }
   ],
   "source": [
    "len(FullData[(FullData.DebtRatio>2) & (FullData.MonthlyIncome==0)])/FullData[FullData.DebtRatio>2].MonthlyIncome.count()"
   ]
  },
  {
   "cell_type": "code",
   "execution_count": 61,
   "metadata": {},
   "outputs": [
    {
     "data": {
      "text/plain": [
       "count    146076.000000\n",
       "mean          0.757222\n",
       "std           1.115086\n",
       "min           0.000000\n",
       "25%           0.000000\n",
       "50%           0.000000\n",
       "75%           1.000000\n",
       "max          20.000000\n",
       "Name: NumberOfDependents, dtype: float64"
      ]
     },
     "execution_count": 61,
     "metadata": {},
     "output_type": "execute_result"
    }
   ],
   "source": [
    "# explanatory variables--NumberOfDependents\n",
    "\n",
    "FullData.NumberOfDependents.describe()"
   ]
  },
  {
   "cell_type": "code",
   "execution_count": 62,
   "metadata": {},
   "outputs": [
    {
     "data": {
      "text/plain": [
       "0.0     86902\n",
       "1.0     26316\n",
       "2.0     19522\n",
       "3.0      9483\n",
       "NaN      3924\n",
       "4.0      2862\n",
       "5.0       746\n",
       "6.0       158\n",
       "7.0        51\n",
       "8.0        24\n",
       "9.0         5\n",
       "10.0        5\n",
       "13.0        1\n",
       "20.0        1\n",
       "Name: NumberOfDependents, dtype: int64"
      ]
     },
     "execution_count": 62,
     "metadata": {},
     "output_type": "execute_result"
    }
   ],
   "source": [
    "FullData.NumberOfDependents.value_counts(dropna=False)"
   ]
  },
  {
   "cell_type": "code",
   "execution_count": 63,
   "metadata": {},
   "outputs": [
    {
     "data": {
      "text/plain": [
       "0    3745\n",
       "1     179\n",
       "Name: SeriousDlqin2yrs, dtype: int64"
      ]
     },
     "execution_count": 63,
     "metadata": {},
     "output_type": "execute_result"
    }
   ],
   "source": [
    "FullData[FullData.NumberOfDependents.isnull()].SeriousDlqin2yrs.value_counts(dropna=False)"
   ]
  },
  {
   "cell_type": "code",
   "execution_count": 64,
   "metadata": {},
   "outputs": [
    {
     "data": {
      "text/plain": [
       "<matplotlib.axes._subplots.AxesSubplot at 0x1a35f1b9e88>"
      ]
     },
     "execution_count": 64,
     "metadata": {},
     "output_type": "execute_result"
    },
    {
     "data": {
      "image/png": "[encoded data removed]",
      "text/plain": [
       "<Figure size 432x288 with 1 Axes>"
      ]
     },
     "metadata": {},
     "output_type": "display_data"
    }
   ],
   "source": [
    "sns.countplot(x=FullData.NumberOfDependents, hue=FullData.SeriousDlqin2yrs)"
   ]
  },
  {
   "cell_type": "code",
   "execution_count": 65,
   "metadata": {},
   "outputs": [
    {
     "data": {
      "text/plain": [
       "6     13614\n",
       "7     13245\n",
       "5     12931\n",
       "8     12562\n",
       "4     11609\n",
       "9     11355\n",
       "10     9624\n",
       "3      9058\n",
       "11     8321\n",
       "12     7005\n",
       "2      6666\n",
       "13     5667\n",
       "14     4546\n",
       "1      4438\n",
       "15     3645\n",
       "16     3000\n",
       "17     2370\n",
       "0      1888\n",
       "18     1874\n",
       "19     1433\n",
       "20     1169\n",
       "21      864\n",
       "22      685\n",
       "23      533\n",
       "24      422\n",
       "25      337\n",
       "26      239\n",
       "27      194\n",
       "28      150\n",
       "29      114\n",
       "30       88\n",
       "31       74\n",
       "32       52\n",
       "33       47\n",
       "34       35\n",
       "35       27\n",
       "36       18\n",
       "38       13\n",
       "40       10\n",
       "39        9\n",
       "45        8\n",
       "43        8\n",
       "42        8\n",
       "37        7\n",
       "48        6\n",
       "41        4\n",
       "54        4\n",
       "49        4\n",
       "46        3\n",
       "52        3\n",
       "51        2\n",
       "56        2\n",
       "57        2\n",
       "50        2\n",
       "47        2\n",
       "44        2\n",
       "53        1\n",
       "58        1\n",
       "Name: NumberOfOpenCreditLinesAndLoans, dtype: int64"
      ]
     },
     "execution_count": 65,
     "metadata": {},
     "output_type": "execute_result"
    }
   ],
   "source": [
    "# explanatory variables--NumberOfOpenCreditLinesAndLoans\n",
    "\n",
    "FullData.NumberOfOpenCreditLinesAndLoans.value_counts()"
   ]
  },
  {
   "cell_type": "code",
   "execution_count": 66,
   "metadata": {},
   "outputs": [
    {
     "data": {
      "text/plain": [
       "count    150000.000000\n",
       "mean          8.452760\n",
       "std           5.145951\n",
       "min           0.000000\n",
       "25%           5.000000\n",
       "50%           8.000000\n",
       "75%          11.000000\n",
       "max          58.000000\n",
       "Name: NumberOfOpenCreditLinesAndLoans, dtype: float64"
      ]
     },
     "execution_count": 66,
     "metadata": {},
     "output_type": "execute_result"
    }
   ],
   "source": [
    "FullData.NumberOfOpenCreditLinesAndLoans.describe()"
   ]
  },
  {
   "cell_type": "code",
   "execution_count": 67,
   "metadata": {},
   "outputs": [
    {
     "data": {
      "text/plain": [
       "<matplotlib.axes._subplots.AxesSubplot at 0x1a35f1c9608>"
      ]
     },
     "execution_count": 67,
     "metadata": {},
     "output_type": "execute_result"
    },
    {
     "data": {
      "image/png": "[encoded data removed]",
      "text/plain": [
       "<Figure size 432x288 with 1 Axes>"
      ]
     },
     "metadata": {},
     "output_type": "display_data"
    }
   ],
   "source": [
    "sns.countplot(x=FullData.NumberOfOpenCreditLinesAndLoans)"
   ]
  },
  {
   "cell_type": "code",
   "execution_count": 68,
   "metadata": {},
   "outputs": [
    {
     "data": {
      "text/plain": [
       "<matplotlib.axes._subplots.AxesSubplot at 0x1a35ef50b48>"
      ]
     },
     "execution_count": 68,
     "metadata": {},
     "output_type": "execute_result"
    },
    {
     "data": {
      "image/png": "[encoded data removed]",
      "text/plain": [
       "<Figure size 432x288 with 1 Axes>"
      ]
     },
     "metadata": {},
     "output_type": "display_data"
    }
   ],
   "source": [
    "sns.countplot(x=FullData.NumberOfOpenCreditLinesAndLoans, hue=FullData.SeriousDlqin2yrs)"
   ]
  },
  {
   "cell_type": "code",
   "execution_count": 69,
   "metadata": {},
   "outputs": [
    {
     "data": {
      "text/plain": [
       "count    150000.000000\n",
       "mean          1.018240\n",
       "std           1.129771\n",
       "min           0.000000\n",
       "25%           0.000000\n",
       "50%           1.000000\n",
       "75%           2.000000\n",
       "max          54.000000\n",
       "Name: NumberRealEstateLoansOrLines, dtype: float64"
      ]
     },
     "execution_count": 69,
     "metadata": {},
     "output_type": "execute_result"
    }
   ],
   "source": [
    "# explanatory variables--NumberRealEstateLoansOrLines\n",
    "\n",
    "FullData.NumberRealEstateLoansOrLines.describe()"
   ]
  },
  {
   "cell_type": "code",
   "execution_count": 70,
   "metadata": {},
   "outputs": [
    {
     "data": {
      "text/plain": [
       "<matplotlib.axes._subplots.AxesSubplot at 0x1a360555948>"
      ]
     },
     "execution_count": 70,
     "metadata": {},
     "output_type": "execute_result"
    },
    {
     "data": {
      "image/png": "[encoded data removed]",
      "text/plain": [
       "<Figure size 432x288 with 1 Axes>"
      ]
     },
     "metadata": {},
     "output_type": "display_data"
    }
   ],
   "source": [
    "sns.countplot(x=FullData.NumberRealEstateLoansOrLines, hue=FullData.SeriousDlqin2yrs)"
   ]
  },
  {
   "cell_type": "code",
   "execution_count": 71,
   "metadata": {},
   "outputs": [
    {
     "data": {
      "text/plain": [
       "0     126018\n",
       "1      16033\n",
       "2       4598\n",
       "3       1754\n",
       "4        747\n",
       "5        342\n",
       "6        140\n",
       "7         54\n",
       "8         25\n",
       "9         12\n",
       "10         4\n",
       "11         1\n",
       "12         2\n",
       "13         1\n",
       "96         5\n",
       "98       264\n",
       "Name: NumberOfTime30-59DaysPastDueNotWorse, dtype: int64"
      ]
     },
     "execution_count": 71,
     "metadata": {},
     "output_type": "execute_result"
    }
   ],
   "source": [
    "# explanatory variables--\"NumberOfTimes90DaysLate\", \"NumberOfTime60-89DaysPastDueNotWorse\",\"NumberOfTime30-59DaysPastDueNotWorse\"\n",
    "\n",
    "FullData['NumberOfTime30-59DaysPastDueNotWorse'].value_counts().sort_index()"
   ]
  },
  {
   "cell_type": "code",
   "execution_count": 72,
   "metadata": {},
   "outputs": [
    {
     "data": {
      "text/plain": [
       "0     142396\n",
       "1       5731\n",
       "2       1118\n",
       "3        318\n",
       "4        105\n",
       "5         34\n",
       "6         16\n",
       "7          9\n",
       "8          2\n",
       "9          1\n",
       "11         1\n",
       "96         5\n",
       "98       264\n",
       "Name: NumberOfTime60-89DaysPastDueNotWorse, dtype: int64"
      ]
     },
     "execution_count": 72,
     "metadata": {},
     "output_type": "execute_result"
    }
   ],
   "source": [
    "FullData['NumberOfTime60-89DaysPastDueNotWorse'].value_counts().sort_index()"
   ]
  },
  {
   "cell_type": "code",
   "execution_count": 73,
   "metadata": {},
   "outputs": [
    {
     "data": {
      "text/plain": [
       "0     141662\n",
       "1       5243\n",
       "2       1555\n",
       "3        667\n",
       "4        291\n",
       "5        131\n",
       "6         80\n",
       "7         38\n",
       "8         21\n",
       "9         19\n",
       "10         8\n",
       "11         5\n",
       "12         2\n",
       "13         4\n",
       "14         2\n",
       "15         2\n",
       "17         1\n",
       "96         5\n",
       "98       264\n",
       "Name: NumberOfTimes90DaysLate, dtype: int64"
      ]
     },
     "execution_count": 73,
     "metadata": {},
     "output_type": "execute_result"
    }
   ],
   "source": [
    "FullData['NumberOfTimes90DaysLate'].value_counts().sort_index()"
   ]
  },
  {
   "cell_type": "code",
   "execution_count": 74,
   "metadata": {},
   "outputs": [
    {
     "data": {
      "text/plain": [
       "269"
      ]
     },
     "execution_count": 74,
     "metadata": {},
     "output_type": "execute_result"
    }
   ],
   "source": [
    "len(FullData[(FullData['NumberOfTime30-59DaysPastDueNotWorse']>=96) & (FullData['NumberOfTime60-89DaysPastDueNotWorse']>=96) & (FullData['NumberOfTime60-89DaysPastDueNotWorse']>=96)])"
   ]
  },
  {
   "cell_type": "markdown",
   "metadata": {},
   "source": [
    "1. Dimension of the data: row: 150000, column: 11\n",
    "2. Missing value: MonthlyIncome has 29731 (19.82%) missing value\n",
    "                  NumberOfDependents has  3924 (2.61%) null values\n",
    "3. columns:\n",
    "   (1) SeriousDlqin2yrs: \n",
    "       (response variable. Only has two value: 0 and 1. )\n",
    "           0: 139974 (about 93.3%)\n",
    "           1: 10026 (about 6.7%)\n",
    "       So it is an imbalance data. Then I will using AUC to evaluate the model performance\n",
    "   (2) RevolvingUtilizationOfUnsecuredLines： \n",
    "       (Total balance on credit cards and personal lines of credit except real estate and no installment debt like car loans divided by the sum of credit limits.)\n",
    "           5 number summary:0.00 0.03 0.15 0.56 50708.00\n",
    "           distribution of values is right-skewed, consider removing outliers.\n",
    "           since the proportion of Defaulters with Total Amount of Money Owed Not Exceeding Total Credit Limit is 0.06, So, it is better to drop those rows of which 'RevolvingUtilizationOfUnsecuredLines' are greater than 13.\n",
    "   (3) Age    \n",
    "       (Age of borrower in years)\n",
    "       5 number summary: 0.00  41.00  52.00  63.00  109.00\n",
    "       The distribution is fine on the whole\n",
    "       There seems more young people defaulting\n",
    "   (4) DebtRatio\n",
    "       (Monthly debt payments, alimony,living costs divided by monthy gross income)\n",
    "       77.6% have DebtRatio less or equal to 1.0 \n",
    "       79.3% have DebtRatio less or equal to 2.0\n",
    "   (5) MonthlyIncome\n",
    "       1634 (1.4%) people have no income; 2277(1.8%) people have income lower than 100 dollars.\n",
    "       The distribution of ln(MonthlyIncome+1) is almost normal with some outliers.\n",
    "       93.3% missing value exist when DebtRatio is greater than 2       \n",
    "       Among those who have DebtRatio greater than 2, 45.9 % has no monthy income.\n",
    "   (6) NumberOfDependents\n",
    "       (Number of dependents in family excluding themselves (spouse, children etc.))\n",
    "       right skewed.The missing value should be filled with the median\n",
    "   (7) NumberOfOpenCreditLinesAndLoans\n",
    "       (Number of Open loans (installment like car loan or mortgage) and Lines of credit (e.g. credit cards))\n",
    "       The distribution is right skewed       \n",
    "   (8) NumberRealEstateLoansOrLines\n",
    "       (Number of mortgage and real estate loans including home equity lines of credit)\n",
    "       Right skewed        \n",
    "   (9) NumberOfTime30-59DaysPastDueNotWorse\n",
    "       (Number of times borrower has been 30-59 days past due but no worse in the last 2 years)\n",
    "   (10)NumberOfTime60-89DaysPastDueNotWorse\n",
    "       right skewed\n",
    "   (11)NumberOfTimes90DaysLate\n",
    "       (Number of times borrower has been 90 days or more past due.)\n",
    "       Right skewed\n",
    "       The three columns: \"NumberOfTimes90DaysLate\", \n",
    "                          \"NumberOfTime60-89DaysPastDueNotWorse\", \n",
    "                           \"NumberOfTime30-59DaysPastDueNotWorse\"\n",
    "       share the same values\", specifically 96 and 98. Maybe it is good to remove those rows.\n",
    "  "
   ]
  },
  {
   "cell_type": "markdown",
   "metadata": {},
   "source": [
    "## Data Pre-processing"
   ]
  },
  {
   "cell_type": "code",
   "execution_count": 75,
   "metadata": {},
   "outputs": [],
   "source": [
    "# filling the missing value\n",
    "\n",
    "FullData.MonthlyIncome=FullData.MonthlyIncome.fillna(FullData[FullData.DebtRatio>2].MonthlyIncome.median())\n",
    "FullData.NumberOfDependents=FullData.NumberOfDependents.fillna(FullData.NumberOfDependents.median())"
   ]
  },
  {
   "cell_type": "code",
   "execution_count": 76,
   "metadata": {},
   "outputs": [],
   "source": [
    "# droping data which have none sense\n",
    "FullData=FullData[FullData.RevolvingUtilizationOfUnsecuredLines<13]"
   ]
  },
  {
   "cell_type": "code",
   "execution_count": 77,
   "metadata": {},
   "outputs": [],
   "source": [
    "FullData=FullData[(FullData['NumberOfTime30-59DaysPastDueNotWorse']<96) & (FullData['NumberOfTime60-89DaysPastDueNotWorse']<96) & (FullData['NumberOfTime60-89DaysPastDueNotWorse']<96)]"
   ]
  },
  {
   "cell_type": "code",
   "execution_count": 78,
   "metadata": {},
   "outputs": [],
   "source": [
    "FullData=FullData.drop_duplicates()"
   ]
  },
  {
   "cell_type": "code",
   "execution_count": 79,
   "metadata": {},
   "outputs": [
    {
     "data": {
      "text/plain": [
       "(148764, 11)"
      ]
     },
     "execution_count": 79,
     "metadata": {},
     "output_type": "execute_result"
    }
   ],
   "source": [
    "FullData.shape"
   ]
  },
  {
   "cell_type": "code",
   "execution_count": 80,
   "metadata": {},
   "outputs": [],
   "source": [
    "# breaking the dataset into training and testing subsets\n",
    "\n",
    "from sklearn.model_selection import train_test_split\n",
    "dx=FullData.iloc[:, 1:]\n",
    "dy=FullData.iloc[:, 0]\n",
    "seed=20200725\n",
    "test_size=0.3\n",
    "x_train, x_test, y_train,y_test=train_test_split(dx, dy, test_size=test_size, random_state=seed)"
   ]
  },
  {
   "cell_type": "markdown",
   "metadata": {},
   "source": [
    "## Models evaluation\n",
    "\n",
    "### 1. Logistic Regression Model"
   ]
  },
  {
   "cell_type": "code",
   "execution_count": 82,
   "metadata": {},
   "outputs": [],
   "source": [
    "# normalize the data\n",
    "\n",
    "from sklearn.preprocessing import Normalizer\n",
    "scaler=Normalizer().fit(x_train)\n",
    "x_train_n=scaler.transform(x_train)\n",
    "x_test_n=scaler.transform(x_test)"
   ]
  },
  {
   "cell_type": "code",
   "execution_count": 81,
   "metadata": {},
   "outputs": [],
   "source": [
    "# build the model\n",
    "from sklearn.linear_model import LogisticRegression"
   ]
  },
  {
   "cell_type": "code",
   "execution_count": 83,
   "metadata": {},
   "outputs": [],
   "source": [
    "lr_model=LogisticRegression()\n",
    "lr_model.fit(x_train_n, y_train)\n",
    "lr_pred=lr_model.predict_proba(x_test_n)\n",
    "lr_prob=lr_pred[:,1]"
   ]
  },
  {
   "cell_type": "code",
   "execution_count": 85,
   "metadata": {},
   "outputs": [],
   "source": [
    "# evaluate\n",
    "from sklearn.metrics import roc_auc_score"
   ]
  },
  {
   "cell_type": "code",
   "execution_count": 86,
   "metadata": {},
   "outputs": [
    {
     "data": {
      "text/plain": [
       "0.6039575886320427"
      ]
     },
     "execution_count": 86,
     "metadata": {},
     "output_type": "execute_result"
    }
   ],
   "source": [
    "lr_auc=roc_auc_score(y_test, lr_prob)\n",
    "lr_auc"
   ]
  },
  {
   "cell_type": "markdown",
   "metadata": {},
   "source": [
    "### 2. Random Forrest Model"
   ]
  },
  {
   "cell_type": "code",
   "execution_count": 87,
   "metadata": {},
   "outputs": [
    {
     "name": "stdout",
     "output_type": "stream",
     "text": [
      "Number of trees is 100, the auc score is 0.8384664551841793\n",
      "Number of trees is 200, the auc score is 0.8450036116551507\n",
      "Number of trees is 300, the auc score is 0.8492329452731694\n",
      "Number of trees is 400, the auc score is 0.84769037927699\n",
      "Number of trees is 500, the auc score is 0.8495003545308575\n",
      "Number of trees is 600, the auc score is 0.851000238920934\n",
      "Number of trees is 700, the auc score is 0.8486861803040531\n",
      "Number of trees is 800, the auc score is 0.850257295678947\n",
      "Number of trees is 900, the auc score is 0.8494682883766638\n",
      "Number of trees is 1000, the auc score is 0.8505831672586313\n"
     ]
    }
   ],
   "source": [
    "from sklearn.ensemble import RandomForestClassifier\n",
    "\n",
    "rf_auc=[]\n",
    "for n in np.arange(100, 1100, 100):\n",
    "    rf_model=RandomForestClassifier(n_estimators=n,n_jobs=-1)\n",
    "    rf_model.fit(x_train, y_train)\n",
    "    rf_pred=rf_model.predict_proba(x_test)\n",
    "    rf_prob=rf_pred[:,1]\n",
    "    rf_auc.append(roc_auc_score(y_test, rf_prob))\n",
    "    print('Number of trees is {}, the auc score is {}'.format(n,roc_auc_score(y_test, rf_prob)))"
   ]
  },
  {
   "cell_type": "markdown",
   "metadata": {},
   "source": [
    "### 3. Xgboost Model"
   ]
  },
  {
   "cell_type": "code",
   "execution_count": 88,
   "metadata": {},
   "outputs": [],
   "source": [
    "from xgboost import XGBClassifier "
   ]
  },
  {
   "cell_type": "code",
   "execution_count": 89,
   "metadata": {},
   "outputs": [
    {
     "data": {
      "text/plain": [
       "XGBClassifier(base_score=0.5, booster='gbtree', colsample_bylevel=1,\n",
       "              colsample_bynode=1, colsample_bytree=1, eta=0.1, gamma=0,\n",
       "              gpu_id=-1, importance_type='gain', interaction_constraints='',\n",
       "              learning_rate=0.100000001, max_delta_step=0, max_depth=6,\n",
       "              min_child_weight=1, missing=nan, monotone_constraints='()',\n",
       "              n_estimators=100, n_jobs=0, num_parallel_tree=1,\n",
       "              objective='binary:logistic', random_state=0, reg_alpha=0,\n",
       "              reg_lambda=1, scale_pos_weight=1, subsample=1,\n",
       "              tree_method='exact', validate_parameters=1, verbosity=None)"
      ]
     },
     "execution_count": 89,
     "metadata": {},
     "output_type": "execute_result"
    }
   ],
   "source": [
    "xgb_model=XGBClassifier(eta=0.1)\n",
    "xgb_model.fit(x_train, y_train)"
   ]
  },
  {
   "cell_type": "code",
   "execution_count": 90,
   "metadata": {},
   "outputs": [],
   "source": [
    "xgb_pred=xgb_model.predict_proba(x_test)\n",
    "xgb_prob=xgb_pred[:,1]"
   ]
  },
  {
   "cell_type": "code",
   "execution_count": 91,
   "metadata": {},
   "outputs": [
    {
     "data": {
      "text/plain": [
       "0.8648455641832244"
      ]
     },
     "execution_count": 91,
     "metadata": {},
     "output_type": "execute_result"
    }
   ],
   "source": [
    "xgb_auc=roc_auc_score(y_test, xgb_prob)\n",
    "xgb_auc"
   ]
  },
  {
   "cell_type": "markdown",
   "metadata": {},
   "source": [
    "* Summary of AUC scores:\n",
    "  1. Logistic Regression model: 0.604\n",
    "  2. Random Forest model: 0.851(600 trees)\n",
    "  3. Xgboost model: 0.865\n",
    "           \n",
    "* It is obvious to see that Xgboost has the highest auc scores which indicates a best predictive performance.<br/>\n",
    "  Later I will use the Xgboost to make a prediction"
   ]
  },
  {
   "cell_type": "markdown",
   "metadata": {},
   "source": [
    "## Optimizing The Model And Make A Prediction"
   ]
  },
  {
   "cell_type": "code",
   "execution_count": 107,
   "metadata": {},
   "outputs": [
    {
     "name": "stdout",
     "output_type": "stream",
     "text": [
      "[0]\tvalidation_0-auc:0.85591\tvalidation_1-auc:0.84876\n",
      "Multiple eval metrics have been passed: 'validation_1-auc' will be used for early stopping.\n",
      "\n",
      "Will train until validation_1-auc hasn't improved in 50 rounds.\n",
      "[1]\tvalidation_0-auc:0.85752\tvalidation_1-auc:0.85016\n",
      "[2]\tvalidation_0-auc:0.85753\tvalidation_1-auc:0.84990\n",
      "[3]\tvalidation_0-auc:0.86231\tvalidation_1-auc:0.85431\n",
      "[4]\tvalidation_0-auc:0.86245\tvalidation_1-auc:0.85457\n",
      "[5]\tvalidation_0-auc:0.86253\tvalidation_1-auc:0.85454\n",
      "[6]\tvalidation_0-auc:0.86254\tvalidation_1-auc:0.85466\n",
      "[7]\tvalidation_0-auc:0.86257\tvalidation_1-auc:0.85461\n",
      "[8]\tvalidation_0-auc:0.86257\tvalidation_1-auc:0.85452\n",
      "[9]\tvalidation_0-auc:0.86265\tvalidation_1-auc:0.85469\n",
      "[10]\tvalidation_0-auc:0.86269\tvalidation_1-auc:0.85470\n",
      "[11]\tvalidation_0-auc:0.86369\tvalidation_1-auc:0.85521\n",
      "[12]\tvalidation_0-auc:0.86372\tvalidation_1-auc:0.85529\n",
      "[13]\tvalidation_0-auc:0.86393\tvalidation_1-auc:0.85547\n",
      "[14]\tvalidation_0-auc:0.86411\tvalidation_1-auc:0.85549\n",
      "[15]\tvalidation_0-auc:0.86418\tvalidation_1-auc:0.85556\n",
      "[16]\tvalidation_0-auc:0.86429\tvalidation_1-auc:0.85559\n",
      "[17]\tvalidation_0-auc:0.86498\tvalidation_1-auc:0.85613\n",
      "[18]\tvalidation_0-auc:0.86501\tvalidation_1-auc:0.85621\n",
      "[19]\tvalidation_0-auc:0.86565\tvalidation_1-auc:0.85671\n",
      "[20]\tvalidation_0-auc:0.86569\tvalidation_1-auc:0.85674\n",
      "[21]\tvalidation_0-auc:0.86704\tvalidation_1-auc:0.85737\n",
      "[22]\tvalidation_0-auc:0.86723\tvalidation_1-auc:0.85758\n",
      "[23]\tvalidation_0-auc:0.86750\tvalidation_1-auc:0.85752\n",
      "[24]\tvalidation_0-auc:0.86753\tvalidation_1-auc:0.85760\n",
      "[25]\tvalidation_0-auc:0.86761\tvalidation_1-auc:0.85754\n",
      "[26]\tvalidation_0-auc:0.86770\tvalidation_1-auc:0.85748\n",
      "[27]\tvalidation_0-auc:0.86793\tvalidation_1-auc:0.85754\n",
      "[28]\tvalidation_0-auc:0.86798\tvalidation_1-auc:0.85755\n",
      "[29]\tvalidation_0-auc:0.86806\tvalidation_1-auc:0.85751\n",
      "[30]\tvalidation_0-auc:0.86844\tvalidation_1-auc:0.85786\n",
      "[31]\tvalidation_0-auc:0.86855\tvalidation_1-auc:0.85793\n",
      "[32]\tvalidation_0-auc:0.86881\tvalidation_1-auc:0.85821\n",
      "[33]\tvalidation_0-auc:0.86893\tvalidation_1-auc:0.85828\n",
      "[34]\tvalidation_0-auc:0.86909\tvalidation_1-auc:0.85843\n",
      "[35]\tvalidation_0-auc:0.86951\tvalidation_1-auc:0.85847\n",
      "[36]\tvalidation_0-auc:0.86979\tvalidation_1-auc:0.85861\n",
      "[37]\tvalidation_0-auc:0.87000\tvalidation_1-auc:0.85879\n",
      "[38]\tvalidation_0-auc:0.87021\tvalidation_1-auc:0.85879\n",
      "[39]\tvalidation_0-auc:0.87034\tvalidation_1-auc:0.85884\n",
      "[40]\tvalidation_0-auc:0.87043\tvalidation_1-auc:0.85881\n",
      "[41]\tvalidation_0-auc:0.87049\tvalidation_1-auc:0.85885\n",
      "[42]\tvalidation_0-auc:0.87055\tvalidation_1-auc:0.85882\n",
      "[43]\tvalidation_0-auc:0.87064\tvalidation_1-auc:0.85875\n",
      "[44]\tvalidation_0-auc:0.87069\tvalidation_1-auc:0.85876\n",
      "[45]\tvalidation_0-auc:0.87076\tvalidation_1-auc:0.85877\n",
      "[46]\tvalidation_0-auc:0.87078\tvalidation_1-auc:0.85877\n",
      "[47]\tvalidation_0-auc:0.87083\tvalidation_1-auc:0.85880\n",
      "[48]\tvalidation_0-auc:0.87104\tvalidation_1-auc:0.85886\n",
      "[49]\tvalidation_0-auc:0.87113\tvalidation_1-auc:0.85887\n",
      "[50]\tvalidation_0-auc:0.87119\tvalidation_1-auc:0.85872\n",
      "[51]\tvalidation_0-auc:0.87128\tvalidation_1-auc:0.85871\n",
      "[52]\tvalidation_0-auc:0.87141\tvalidation_1-auc:0.85883\n",
      "[53]\tvalidation_0-auc:0.87150\tvalidation_1-auc:0.85884\n",
      "[54]\tvalidation_0-auc:0.87158\tvalidation_1-auc:0.85881\n",
      "[55]\tvalidation_0-auc:0.87163\tvalidation_1-auc:0.85881\n",
      "[56]\tvalidation_0-auc:0.87169\tvalidation_1-auc:0.85878\n",
      "[57]\tvalidation_0-auc:0.87186\tvalidation_1-auc:0.85888\n",
      "[58]\tvalidation_0-auc:0.87190\tvalidation_1-auc:0.85889\n",
      "[59]\tvalidation_0-auc:0.87199\tvalidation_1-auc:0.85889\n",
      "[60]\tvalidation_0-auc:0.87209\tvalidation_1-auc:0.85893\n",
      "[61]\tvalidation_0-auc:0.87223\tvalidation_1-auc:0.85893\n",
      "[62]\tvalidation_0-auc:0.87229\tvalidation_1-auc:0.85890\n",
      "[63]\tvalidation_0-auc:0.87235\tvalidation_1-auc:0.85889\n",
      "[64]\tvalidation_0-auc:0.87245\tvalidation_1-auc:0.85894\n",
      "[65]\tvalidation_0-auc:0.87249\tvalidation_1-auc:0.85894\n",
      "[66]\tvalidation_0-auc:0.87259\tvalidation_1-auc:0.85891\n",
      "[67]\tvalidation_0-auc:0.87264\tvalidation_1-auc:0.85896\n",
      "[68]\tvalidation_0-auc:0.87276\tvalidation_1-auc:0.85888\n",
      "[69]\tvalidation_0-auc:0.87279\tvalidation_1-auc:0.85891\n",
      "[70]\tvalidation_0-auc:0.87286\tvalidation_1-auc:0.85892\n",
      "[71]\tvalidation_0-auc:0.87293\tvalidation_1-auc:0.85890\n",
      "[72]\tvalidation_0-auc:0.87301\tvalidation_1-auc:0.85893\n",
      "[73]\tvalidation_0-auc:0.87306\tvalidation_1-auc:0.85898\n",
      "[74]\tvalidation_0-auc:0.87318\tvalidation_1-auc:0.85896\n",
      "[75]\tvalidation_0-auc:0.87325\tvalidation_1-auc:0.85896\n",
      "[76]\tvalidation_0-auc:0.87333\tvalidation_1-auc:0.85901\n",
      "[77]\tvalidation_0-auc:0.87337\tvalidation_1-auc:0.85899\n",
      "[78]\tvalidation_0-auc:0.87351\tvalidation_1-auc:0.85894\n",
      "[79]\tvalidation_0-auc:0.87355\tvalidation_1-auc:0.85896\n",
      "[80]\tvalidation_0-auc:0.87364\tvalidation_1-auc:0.85895\n",
      "[81]\tvalidation_0-auc:0.87371\tvalidation_1-auc:0.85889\n",
      "[82]\tvalidation_0-auc:0.87378\tvalidation_1-auc:0.85898\n",
      "[83]\tvalidation_0-auc:0.87386\tvalidation_1-auc:0.85890\n",
      "[84]\tvalidation_0-auc:0.87395\tvalidation_1-auc:0.85891\n",
      "[85]\tvalidation_0-auc:0.87401\tvalidation_1-auc:0.85889\n",
      "[86]\tvalidation_0-auc:0.87407\tvalidation_1-auc:0.85891\n",
      "[87]\tvalidation_0-auc:0.87428\tvalidation_1-auc:0.85896\n",
      "[88]\tvalidation_0-auc:0.87431\tvalidation_1-auc:0.85892\n",
      "[89]\tvalidation_0-auc:0.87443\tvalidation_1-auc:0.85896\n",
      "[90]\tvalidation_0-auc:0.87454\tvalidation_1-auc:0.85895\n",
      "[91]\tvalidation_0-auc:0.87465\tvalidation_1-auc:0.85893\n",
      "[92]\tvalidation_0-auc:0.87472\tvalidation_1-auc:0.85888\n",
      "[93]\tvalidation_0-auc:0.87483\tvalidation_1-auc:0.85884\n",
      "[94]\tvalidation_0-auc:0.87492\tvalidation_1-auc:0.85885\n",
      "[95]\tvalidation_0-auc:0.87497\tvalidation_1-auc:0.85885\n",
      "[96]\tvalidation_0-auc:0.87504\tvalidation_1-auc:0.85880\n",
      "[97]\tvalidation_0-auc:0.87510\tvalidation_1-auc:0.85879\n",
      "[98]\tvalidation_0-auc:0.87520\tvalidation_1-auc:0.85879\n",
      "[99]\tvalidation_0-auc:0.87525\tvalidation_1-auc:0.85880\n",
      "[100]\tvalidation_0-auc:0.87532\tvalidation_1-auc:0.85876\n",
      "[101]\tvalidation_0-auc:0.87537\tvalidation_1-auc:0.85879\n",
      "[102]\tvalidation_0-auc:0.87546\tvalidation_1-auc:0.85874\n",
      "[103]\tvalidation_0-auc:0.87552\tvalidation_1-auc:0.85876\n",
      "[104]\tvalidation_0-auc:0.87568\tvalidation_1-auc:0.85872\n",
      "[105]\tvalidation_0-auc:0.87574\tvalidation_1-auc:0.85871\n",
      "[106]\tvalidation_0-auc:0.87584\tvalidation_1-auc:0.85872\n",
      "[107]\tvalidation_0-auc:0.87592\tvalidation_1-auc:0.85870\n",
      "[108]\tvalidation_0-auc:0.87597\tvalidation_1-auc:0.85867\n",
      "[109]\tvalidation_0-auc:0.87607\tvalidation_1-auc:0.85868\n",
      "[110]\tvalidation_0-auc:0.87616\tvalidation_1-auc:0.85868\n",
      "[111]\tvalidation_0-auc:0.87623\tvalidation_1-auc:0.85867\n",
      "[112]\tvalidation_0-auc:0.87640\tvalidation_1-auc:0.85873\n",
      "[113]\tvalidation_0-auc:0.87649\tvalidation_1-auc:0.85874\n",
      "[114]\tvalidation_0-auc:0.87660\tvalidation_1-auc:0.85878\n",
      "[115]\tvalidation_0-auc:0.87668\tvalidation_1-auc:0.85879\n",
      "[116]\tvalidation_0-auc:0.87680\tvalidation_1-auc:0.85880\n",
      "[117]\tvalidation_0-auc:0.87685\tvalidation_1-auc:0.85878\n",
      "[118]\tvalidation_0-auc:0.87695\tvalidation_1-auc:0.85886\n",
      "[119]\tvalidation_0-auc:0.87701\tvalidation_1-auc:0.85883\n",
      "[120]\tvalidation_0-auc:0.87707\tvalidation_1-auc:0.85888\n",
      "[121]\tvalidation_0-auc:0.87717\tvalidation_1-auc:0.85887\n",
      "[122]\tvalidation_0-auc:0.87722\tvalidation_1-auc:0.85892\n",
      "[123]\tvalidation_0-auc:0.87734\tvalidation_1-auc:0.85898\n",
      "[124]\tvalidation_0-auc:0.87744\tvalidation_1-auc:0.85900\n",
      "[125]\tvalidation_0-auc:0.87752\tvalidation_1-auc:0.85906\n",
      "[126]\tvalidation_0-auc:0.87759\tvalidation_1-auc:0.85908\n",
      "[127]\tvalidation_0-auc:0.87764\tvalidation_1-auc:0.85908\n",
      "[128]\tvalidation_0-auc:0.87774\tvalidation_1-auc:0.85910\n",
      "[129]\tvalidation_0-auc:0.87784\tvalidation_1-auc:0.85907\n",
      "[130]\tvalidation_0-auc:0.87791\tvalidation_1-auc:0.85910\n",
      "[131]\tvalidation_0-auc:0.87802\tvalidation_1-auc:0.85909\n",
      "[132]\tvalidation_0-auc:0.87811\tvalidation_1-auc:0.85911\n",
      "[133]\tvalidation_0-auc:0.87821\tvalidation_1-auc:0.85916\n",
      "[134]\tvalidation_0-auc:0.87831\tvalidation_1-auc:0.85921\n",
      "[135]\tvalidation_0-auc:0.87838\tvalidation_1-auc:0.85924\n",
      "[136]\tvalidation_0-auc:0.87850\tvalidation_1-auc:0.85927\n",
      "[137]\tvalidation_0-auc:0.87862\tvalidation_1-auc:0.85934\n",
      "[138]\tvalidation_0-auc:0.87876\tvalidation_1-auc:0.85942\n",
      "[139]\tvalidation_0-auc:0.87888\tvalidation_1-auc:0.85944\n",
      "[140]\tvalidation_0-auc:0.87902\tvalidation_1-auc:0.85949\n",
      "[141]\tvalidation_0-auc:0.87917\tvalidation_1-auc:0.85957\n",
      "[142]\tvalidation_0-auc:0.87928\tvalidation_1-auc:0.85959\n",
      "[143]\tvalidation_0-auc:0.87940\tvalidation_1-auc:0.85959\n",
      "[144]\tvalidation_0-auc:0.87947\tvalidation_1-auc:0.85959\n",
      "[145]\tvalidation_0-auc:0.87955\tvalidation_1-auc:0.85966\n"
     ]
    },
    {
     "name": "stdout",
     "output_type": "stream",
     "text": [
      "[146]\tvalidation_0-auc:0.87965\tvalidation_1-auc:0.85969\n",
      "[147]\tvalidation_0-auc:0.87975\tvalidation_1-auc:0.85969\n",
      "[148]\tvalidation_0-auc:0.87987\tvalidation_1-auc:0.85974\n",
      "[149]\tvalidation_0-auc:0.87997\tvalidation_1-auc:0.85980\n",
      "[150]\tvalidation_0-auc:0.88006\tvalidation_1-auc:0.85982\n",
      "[151]\tvalidation_0-auc:0.88014\tvalidation_1-auc:0.85985\n",
      "[152]\tvalidation_0-auc:0.88023\tvalidation_1-auc:0.85991\n",
      "[153]\tvalidation_0-auc:0.88034\tvalidation_1-auc:0.85994\n",
      "[154]\tvalidation_0-auc:0.88042\tvalidation_1-auc:0.85996\n",
      "[155]\tvalidation_0-auc:0.88051\tvalidation_1-auc:0.86000\n",
      "[156]\tvalidation_0-auc:0.88058\tvalidation_1-auc:0.86002\n",
      "[157]\tvalidation_0-auc:0.88067\tvalidation_1-auc:0.86004\n",
      "[158]\tvalidation_0-auc:0.88075\tvalidation_1-auc:0.86007\n",
      "[159]\tvalidation_0-auc:0.88085\tvalidation_1-auc:0.86011\n",
      "[160]\tvalidation_0-auc:0.88092\tvalidation_1-auc:0.86013\n",
      "[161]\tvalidation_0-auc:0.88097\tvalidation_1-auc:0.86015\n",
      "[162]\tvalidation_0-auc:0.88105\tvalidation_1-auc:0.86019\n",
      "[163]\tvalidation_0-auc:0.88114\tvalidation_1-auc:0.86021\n",
      "[164]\tvalidation_0-auc:0.88119\tvalidation_1-auc:0.86021\n",
      "[165]\tvalidation_0-auc:0.88128\tvalidation_1-auc:0.86019\n",
      "[166]\tvalidation_0-auc:0.88135\tvalidation_1-auc:0.86024\n",
      "[167]\tvalidation_0-auc:0.88141\tvalidation_1-auc:0.86025\n",
      "[168]\tvalidation_0-auc:0.88149\tvalidation_1-auc:0.86026\n",
      "[169]\tvalidation_0-auc:0.88155\tvalidation_1-auc:0.86028\n",
      "[170]\tvalidation_0-auc:0.88162\tvalidation_1-auc:0.86030\n",
      "[171]\tvalidation_0-auc:0.88166\tvalidation_1-auc:0.86030\n",
      "[172]\tvalidation_0-auc:0.88175\tvalidation_1-auc:0.86029\n",
      "[173]\tvalidation_0-auc:0.88182\tvalidation_1-auc:0.86031\n",
      "[174]\tvalidation_0-auc:0.88188\tvalidation_1-auc:0.86034\n",
      "[175]\tvalidation_0-auc:0.88206\tvalidation_1-auc:0.86035\n",
      "[176]\tvalidation_0-auc:0.88218\tvalidation_1-auc:0.86036\n",
      "[177]\tvalidation_0-auc:0.88224\tvalidation_1-auc:0.86037\n",
      "[178]\tvalidation_0-auc:0.88229\tvalidation_1-auc:0.86040\n",
      "[179]\tvalidation_0-auc:0.88235\tvalidation_1-auc:0.86040\n",
      "[180]\tvalidation_0-auc:0.88242\tvalidation_1-auc:0.86042\n",
      "[181]\tvalidation_0-auc:0.88247\tvalidation_1-auc:0.86042\n",
      "[182]\tvalidation_0-auc:0.88254\tvalidation_1-auc:0.86043\n",
      "[183]\tvalidation_0-auc:0.88258\tvalidation_1-auc:0.86045\n",
      "[184]\tvalidation_0-auc:0.88265\tvalidation_1-auc:0.86046\n",
      "[185]\tvalidation_0-auc:0.88272\tvalidation_1-auc:0.86044\n",
      "[186]\tvalidation_0-auc:0.88275\tvalidation_1-auc:0.86040\n",
      "[187]\tvalidation_0-auc:0.88282\tvalidation_1-auc:0.86042\n",
      "[188]\tvalidation_0-auc:0.88286\tvalidation_1-auc:0.86040\n",
      "[189]\tvalidation_0-auc:0.88291\tvalidation_1-auc:0.86041\n",
      "[190]\tvalidation_0-auc:0.88302\tvalidation_1-auc:0.86048\n",
      "[191]\tvalidation_0-auc:0.88304\tvalidation_1-auc:0.86047\n",
      "[192]\tvalidation_0-auc:0.88310\tvalidation_1-auc:0.86047\n",
      "[193]\tvalidation_0-auc:0.88320\tvalidation_1-auc:0.86050\n",
      "[194]\tvalidation_0-auc:0.88327\tvalidation_1-auc:0.86054\n",
      "[195]\tvalidation_0-auc:0.88334\tvalidation_1-auc:0.86056\n",
      "[196]\tvalidation_0-auc:0.88343\tvalidation_1-auc:0.86060\n",
      "[197]\tvalidation_0-auc:0.88350\tvalidation_1-auc:0.86062\n",
      "[198]\tvalidation_0-auc:0.88355\tvalidation_1-auc:0.86063\n",
      "[199]\tvalidation_0-auc:0.88361\tvalidation_1-auc:0.86063\n",
      "[200]\tvalidation_0-auc:0.88367\tvalidation_1-auc:0.86064\n",
      "[201]\tvalidation_0-auc:0.88372\tvalidation_1-auc:0.86063\n",
      "[202]\tvalidation_0-auc:0.88380\tvalidation_1-auc:0.86063\n",
      "[203]\tvalidation_0-auc:0.88384\tvalidation_1-auc:0.86064\n",
      "[204]\tvalidation_0-auc:0.88392\tvalidation_1-auc:0.86065\n",
      "[205]\tvalidation_0-auc:0.88401\tvalidation_1-auc:0.86068\n",
      "[206]\tvalidation_0-auc:0.88407\tvalidation_1-auc:0.86067\n",
      "[207]\tvalidation_0-auc:0.88415\tvalidation_1-auc:0.86073\n",
      "[208]\tvalidation_0-auc:0.88420\tvalidation_1-auc:0.86074\n",
      "[209]\tvalidation_0-auc:0.88428\tvalidation_1-auc:0.86077\n",
      "[210]\tvalidation_0-auc:0.88434\tvalidation_1-auc:0.86078\n",
      "[211]\tvalidation_0-auc:0.88440\tvalidation_1-auc:0.86080\n",
      "[212]\tvalidation_0-auc:0.88447\tvalidation_1-auc:0.86083\n",
      "[213]\tvalidation_0-auc:0.88452\tvalidation_1-auc:0.86085\n",
      "[214]\tvalidation_0-auc:0.88460\tvalidation_1-auc:0.86088\n",
      "[215]\tvalidation_0-auc:0.88468\tvalidation_1-auc:0.86090\n",
      "[216]\tvalidation_0-auc:0.88475\tvalidation_1-auc:0.86096\n",
      "[217]\tvalidation_0-auc:0.88480\tvalidation_1-auc:0.86097\n",
      "[218]\tvalidation_0-auc:0.88487\tvalidation_1-auc:0.86101\n",
      "[219]\tvalidation_0-auc:0.88495\tvalidation_1-auc:0.86102\n",
      "[220]\tvalidation_0-auc:0.88502\tvalidation_1-auc:0.86104\n",
      "[221]\tvalidation_0-auc:0.88514\tvalidation_1-auc:0.86105\n",
      "[222]\tvalidation_0-auc:0.88521\tvalidation_1-auc:0.86106\n",
      "[223]\tvalidation_0-auc:0.88530\tvalidation_1-auc:0.86108\n",
      "[224]\tvalidation_0-auc:0.88535\tvalidation_1-auc:0.86110\n",
      "[225]\tvalidation_0-auc:0.88542\tvalidation_1-auc:0.86111\n",
      "[226]\tvalidation_0-auc:0.88548\tvalidation_1-auc:0.86113\n",
      "[227]\tvalidation_0-auc:0.88558\tvalidation_1-auc:0.86118\n",
      "[228]\tvalidation_0-auc:0.88563\tvalidation_1-auc:0.86116\n",
      "[229]\tvalidation_0-auc:0.88577\tvalidation_1-auc:0.86123\n",
      "[230]\tvalidation_0-auc:0.88585\tvalidation_1-auc:0.86129\n",
      "[231]\tvalidation_0-auc:0.88597\tvalidation_1-auc:0.86132\n",
      "[232]\tvalidation_0-auc:0.88605\tvalidation_1-auc:0.86137\n",
      "[233]\tvalidation_0-auc:0.88612\tvalidation_1-auc:0.86142\n",
      "[234]\tvalidation_0-auc:0.88621\tvalidation_1-auc:0.86143\n",
      "[235]\tvalidation_0-auc:0.88631\tvalidation_1-auc:0.86145\n",
      "[236]\tvalidation_0-auc:0.88639\tvalidation_1-auc:0.86149\n",
      "[237]\tvalidation_0-auc:0.88649\tvalidation_1-auc:0.86153\n",
      "[238]\tvalidation_0-auc:0.88655\tvalidation_1-auc:0.86156\n",
      "[239]\tvalidation_0-auc:0.88665\tvalidation_1-auc:0.86158\n",
      "[240]\tvalidation_0-auc:0.88675\tvalidation_1-auc:0.86159\n",
      "[241]\tvalidation_0-auc:0.88681\tvalidation_1-auc:0.86162\n",
      "[242]\tvalidation_0-auc:0.88690\tvalidation_1-auc:0.86164\n",
      "[243]\tvalidation_0-auc:0.88696\tvalidation_1-auc:0.86165\n",
      "[244]\tvalidation_0-auc:0.88704\tvalidation_1-auc:0.86168\n",
      "[245]\tvalidation_0-auc:0.88713\tvalidation_1-auc:0.86167\n",
      "[246]\tvalidation_0-auc:0.88719\tvalidation_1-auc:0.86169\n",
      "[247]\tvalidation_0-auc:0.88726\tvalidation_1-auc:0.86170\n",
      "[248]\tvalidation_0-auc:0.88735\tvalidation_1-auc:0.86172\n",
      "[249]\tvalidation_0-auc:0.88742\tvalidation_1-auc:0.86174\n",
      "[250]\tvalidation_0-auc:0.88751\tvalidation_1-auc:0.86176\n",
      "[251]\tvalidation_0-auc:0.88757\tvalidation_1-auc:0.86177\n",
      "[252]\tvalidation_0-auc:0.88764\tvalidation_1-auc:0.86177\n",
      "[253]\tvalidation_0-auc:0.88773\tvalidation_1-auc:0.86178\n",
      "[254]\tvalidation_0-auc:0.88782\tvalidation_1-auc:0.86180\n",
      "[255]\tvalidation_0-auc:0.88790\tvalidation_1-auc:0.86181\n",
      "[256]\tvalidation_0-auc:0.88799\tvalidation_1-auc:0.86181\n",
      "[257]\tvalidation_0-auc:0.88813\tvalidation_1-auc:0.86181\n",
      "[258]\tvalidation_0-auc:0.88823\tvalidation_1-auc:0.86181\n",
      "[259]\tvalidation_0-auc:0.88831\tvalidation_1-auc:0.86186\n",
      "[260]\tvalidation_0-auc:0.88841\tvalidation_1-auc:0.86185\n",
      "[261]\tvalidation_0-auc:0.88851\tvalidation_1-auc:0.86184\n",
      "[262]\tvalidation_0-auc:0.88859\tvalidation_1-auc:0.86183\n",
      "[263]\tvalidation_0-auc:0.88867\tvalidation_1-auc:0.86185\n",
      "[264]\tvalidation_0-auc:0.88874\tvalidation_1-auc:0.86185\n",
      "[265]\tvalidation_0-auc:0.88882\tvalidation_1-auc:0.86185\n",
      "[266]\tvalidation_0-auc:0.88893\tvalidation_1-auc:0.86186\n",
      "[267]\tvalidation_0-auc:0.88905\tvalidation_1-auc:0.86190\n",
      "[268]\tvalidation_0-auc:0.88916\tvalidation_1-auc:0.86187\n",
      "[269]\tvalidation_0-auc:0.88927\tvalidation_1-auc:0.86189\n",
      "[270]\tvalidation_0-auc:0.88936\tvalidation_1-auc:0.86189\n",
      "[271]\tvalidation_0-auc:0.88951\tvalidation_1-auc:0.86192\n",
      "[272]\tvalidation_0-auc:0.88960\tvalidation_1-auc:0.86193\n",
      "[273]\tvalidation_0-auc:0.88969\tvalidation_1-auc:0.86190\n",
      "[274]\tvalidation_0-auc:0.88980\tvalidation_1-auc:0.86191\n",
      "[275]\tvalidation_0-auc:0.88992\tvalidation_1-auc:0.86192\n",
      "[276]\tvalidation_0-auc:0.89001\tvalidation_1-auc:0.86193\n",
      "[277]\tvalidation_0-auc:0.89010\tvalidation_1-auc:0.86194\n",
      "[278]\tvalidation_0-auc:0.89020\tvalidation_1-auc:0.86194\n",
      "[279]\tvalidation_0-auc:0.89029\tvalidation_1-auc:0.86199\n",
      "[280]\tvalidation_0-auc:0.89044\tvalidation_1-auc:0.86201\n",
      "[281]\tvalidation_0-auc:0.89058\tvalidation_1-auc:0.86206\n",
      "[282]\tvalidation_0-auc:0.89072\tvalidation_1-auc:0.86207\n",
      "[283]\tvalidation_0-auc:0.89081\tvalidation_1-auc:0.86211\n",
      "[284]\tvalidation_0-auc:0.89092\tvalidation_1-auc:0.86212\n",
      "[285]\tvalidation_0-auc:0.89103\tvalidation_1-auc:0.86212\n",
      "[286]\tvalidation_0-auc:0.89117\tvalidation_1-auc:0.86212\n",
      "[287]\tvalidation_0-auc:0.89126\tvalidation_1-auc:0.86215\n",
      "[288]\tvalidation_0-auc:0.89135\tvalidation_1-auc:0.86217\n",
      "[289]\tvalidation_0-auc:0.89145\tvalidation_1-auc:0.86215\n",
      "[290]\tvalidation_0-auc:0.89157\tvalidation_1-auc:0.86218\n",
      "[291]\tvalidation_0-auc:0.89166\tvalidation_1-auc:0.86217\n",
      "[292]\tvalidation_0-auc:0.89174\tvalidation_1-auc:0.86218\n"
     ]
    },
    {
     "name": "stdout",
     "output_type": "stream",
     "text": [
      "[293]\tvalidation_0-auc:0.89186\tvalidation_1-auc:0.86217\n",
      "[294]\tvalidation_0-auc:0.89195\tvalidation_1-auc:0.86218\n",
      "[295]\tvalidation_0-auc:0.89204\tvalidation_1-auc:0.86216\n",
      "[296]\tvalidation_0-auc:0.89212\tvalidation_1-auc:0.86217\n",
      "[297]\tvalidation_0-auc:0.89227\tvalidation_1-auc:0.86219\n",
      "[298]\tvalidation_0-auc:0.89242\tvalidation_1-auc:0.86223\n",
      "[299]\tvalidation_0-auc:0.89257\tvalidation_1-auc:0.86226\n",
      "[300]\tvalidation_0-auc:0.89270\tvalidation_1-auc:0.86228\n",
      "[301]\tvalidation_0-auc:0.89280\tvalidation_1-auc:0.86228\n",
      "[302]\tvalidation_0-auc:0.89290\tvalidation_1-auc:0.86229\n",
      "[303]\tvalidation_0-auc:0.89305\tvalidation_1-auc:0.86232\n",
      "[304]\tvalidation_0-auc:0.89318\tvalidation_1-auc:0.86234\n",
      "[305]\tvalidation_0-auc:0.89326\tvalidation_1-auc:0.86235\n",
      "[306]\tvalidation_0-auc:0.89336\tvalidation_1-auc:0.86235\n",
      "[307]\tvalidation_0-auc:0.89347\tvalidation_1-auc:0.86235\n",
      "[308]\tvalidation_0-auc:0.89360\tvalidation_1-auc:0.86238\n",
      "[309]\tvalidation_0-auc:0.89370\tvalidation_1-auc:0.86239\n",
      "[310]\tvalidation_0-auc:0.89377\tvalidation_1-auc:0.86240\n",
      "[311]\tvalidation_0-auc:0.89388\tvalidation_1-auc:0.86242\n",
      "[312]\tvalidation_0-auc:0.89398\tvalidation_1-auc:0.86244\n",
      "[313]\tvalidation_0-auc:0.89408\tvalidation_1-auc:0.86245\n",
      "[314]\tvalidation_0-auc:0.89420\tvalidation_1-auc:0.86247\n",
      "[315]\tvalidation_0-auc:0.89432\tvalidation_1-auc:0.86249\n",
      "[316]\tvalidation_0-auc:0.89443\tvalidation_1-auc:0.86248\n",
      "[317]\tvalidation_0-auc:0.89454\tvalidation_1-auc:0.86250\n",
      "[318]\tvalidation_0-auc:0.89465\tvalidation_1-auc:0.86252\n",
      "[319]\tvalidation_0-auc:0.89478\tvalidation_1-auc:0.86254\n",
      "[320]\tvalidation_0-auc:0.89490\tvalidation_1-auc:0.86254\n",
      "[321]\tvalidation_0-auc:0.89499\tvalidation_1-auc:0.86253\n",
      "[322]\tvalidation_0-auc:0.89510\tvalidation_1-auc:0.86254\n",
      "[323]\tvalidation_0-auc:0.89523\tvalidation_1-auc:0.86257\n",
      "[324]\tvalidation_0-auc:0.89534\tvalidation_1-auc:0.86258\n",
      "[325]\tvalidation_0-auc:0.89546\tvalidation_1-auc:0.86260\n",
      "[326]\tvalidation_0-auc:0.89560\tvalidation_1-auc:0.86261\n",
      "[327]\tvalidation_0-auc:0.89570\tvalidation_1-auc:0.86263\n",
      "[328]\tvalidation_0-auc:0.89579\tvalidation_1-auc:0.86263\n",
      "[329]\tvalidation_0-auc:0.89590\tvalidation_1-auc:0.86264\n",
      "[330]\tvalidation_0-auc:0.89601\tvalidation_1-auc:0.86264\n",
      "[331]\tvalidation_0-auc:0.89610\tvalidation_1-auc:0.86263\n",
      "[332]\tvalidation_0-auc:0.89618\tvalidation_1-auc:0.86263\n",
      "[333]\tvalidation_0-auc:0.89628\tvalidation_1-auc:0.86263\n",
      "[334]\tvalidation_0-auc:0.89638\tvalidation_1-auc:0.86264\n",
      "[335]\tvalidation_0-auc:0.89648\tvalidation_1-auc:0.86263\n",
      "[336]\tvalidation_0-auc:0.89655\tvalidation_1-auc:0.86262\n",
      "[337]\tvalidation_0-auc:0.89664\tvalidation_1-auc:0.86264\n",
      "[338]\tvalidation_0-auc:0.89674\tvalidation_1-auc:0.86264\n",
      "[339]\tvalidation_0-auc:0.89683\tvalidation_1-auc:0.86264\n",
      "[340]\tvalidation_0-auc:0.89694\tvalidation_1-auc:0.86265\n",
      "[341]\tvalidation_0-auc:0.89702\tvalidation_1-auc:0.86264\n",
      "[342]\tvalidation_0-auc:0.89709\tvalidation_1-auc:0.86264\n",
      "[343]\tvalidation_0-auc:0.89719\tvalidation_1-auc:0.86265\n",
      "[344]\tvalidation_0-auc:0.89728\tvalidation_1-auc:0.86263\n",
      "[345]\tvalidation_0-auc:0.89735\tvalidation_1-auc:0.86261\n",
      "[346]\tvalidation_0-auc:0.89742\tvalidation_1-auc:0.86260\n",
      "[347]\tvalidation_0-auc:0.89754\tvalidation_1-auc:0.86259\n",
      "[348]\tvalidation_0-auc:0.89773\tvalidation_1-auc:0.86260\n",
      "[349]\tvalidation_0-auc:0.89790\tvalidation_1-auc:0.86260\n",
      "[350]\tvalidation_0-auc:0.89807\tvalidation_1-auc:0.86260\n",
      "[351]\tvalidation_0-auc:0.89823\tvalidation_1-auc:0.86260\n",
      "[352]\tvalidation_0-auc:0.89838\tvalidation_1-auc:0.86261\n",
      "[353]\tvalidation_0-auc:0.89854\tvalidation_1-auc:0.86262\n",
      "[354]\tvalidation_0-auc:0.89867\tvalidation_1-auc:0.86263\n",
      "[355]\tvalidation_0-auc:0.89881\tvalidation_1-auc:0.86264\n",
      "[356]\tvalidation_0-auc:0.89894\tvalidation_1-auc:0.86264\n",
      "[357]\tvalidation_0-auc:0.89909\tvalidation_1-auc:0.86264\n",
      "[358]\tvalidation_0-auc:0.89924\tvalidation_1-auc:0.86263\n",
      "[359]\tvalidation_0-auc:0.89938\tvalidation_1-auc:0.86264\n",
      "[360]\tvalidation_0-auc:0.89953\tvalidation_1-auc:0.86263\n",
      "[361]\tvalidation_0-auc:0.89964\tvalidation_1-auc:0.86263\n",
      "[362]\tvalidation_0-auc:0.89975\tvalidation_1-auc:0.86263\n",
      "[363]\tvalidation_0-auc:0.89988\tvalidation_1-auc:0.86262\n",
      "[364]\tvalidation_0-auc:0.90002\tvalidation_1-auc:0.86263\n",
      "[365]\tvalidation_0-auc:0.90012\tvalidation_1-auc:0.86263\n",
      "[366]\tvalidation_0-auc:0.90024\tvalidation_1-auc:0.86265\n",
      "[367]\tvalidation_0-auc:0.90037\tvalidation_1-auc:0.86265\n",
      "[368]\tvalidation_0-auc:0.90048\tvalidation_1-auc:0.86266\n",
      "[369]\tvalidation_0-auc:0.90059\tvalidation_1-auc:0.86267\n",
      "[370]\tvalidation_0-auc:0.90070\tvalidation_1-auc:0.86267\n",
      "[371]\tvalidation_0-auc:0.90082\tvalidation_1-auc:0.86267\n",
      "[372]\tvalidation_0-auc:0.90092\tvalidation_1-auc:0.86268\n",
      "[373]\tvalidation_0-auc:0.90101\tvalidation_1-auc:0.86268\n",
      "[374]\tvalidation_0-auc:0.90110\tvalidation_1-auc:0.86269\n",
      "[375]\tvalidation_0-auc:0.90120\tvalidation_1-auc:0.86269\n",
      "[376]\tvalidation_0-auc:0.90129\tvalidation_1-auc:0.86271\n",
      "[377]\tvalidation_0-auc:0.90140\tvalidation_1-auc:0.86270\n",
      "[378]\tvalidation_0-auc:0.90149\tvalidation_1-auc:0.86270\n",
      "[379]\tvalidation_0-auc:0.90161\tvalidation_1-auc:0.86270\n",
      "[380]\tvalidation_0-auc:0.90170\tvalidation_1-auc:0.86268\n",
      "[381]\tvalidation_0-auc:0.90179\tvalidation_1-auc:0.86268\n",
      "[382]\tvalidation_0-auc:0.90188\tvalidation_1-auc:0.86267\n",
      "[383]\tvalidation_0-auc:0.90197\tvalidation_1-auc:0.86265\n",
      "[384]\tvalidation_0-auc:0.90206\tvalidation_1-auc:0.86267\n",
      "[385]\tvalidation_0-auc:0.90214\tvalidation_1-auc:0.86267\n",
      "[386]\tvalidation_0-auc:0.90224\tvalidation_1-auc:0.86265\n",
      "[387]\tvalidation_0-auc:0.90236\tvalidation_1-auc:0.86266\n",
      "[388]\tvalidation_0-auc:0.90246\tvalidation_1-auc:0.86266\n",
      "[389]\tvalidation_0-auc:0.90257\tvalidation_1-auc:0.86265\n",
      "[390]\tvalidation_0-auc:0.90268\tvalidation_1-auc:0.86267\n",
      "[391]\tvalidation_0-auc:0.90278\tvalidation_1-auc:0.86268\n",
      "[392]\tvalidation_0-auc:0.90289\tvalidation_1-auc:0.86267\n",
      "[393]\tvalidation_0-auc:0.90299\tvalidation_1-auc:0.86268\n",
      "[394]\tvalidation_0-auc:0.90311\tvalidation_1-auc:0.86268\n",
      "[395]\tvalidation_0-auc:0.90321\tvalidation_1-auc:0.86268\n",
      "[396]\tvalidation_0-auc:0.90331\tvalidation_1-auc:0.86268\n",
      "[397]\tvalidation_0-auc:0.90342\tvalidation_1-auc:0.86269\n",
      "[398]\tvalidation_0-auc:0.90352\tvalidation_1-auc:0.86270\n",
      "[399]\tvalidation_0-auc:0.90362\tvalidation_1-auc:0.86269\n",
      "[400]\tvalidation_0-auc:0.90373\tvalidation_1-auc:0.86268\n",
      "[401]\tvalidation_0-auc:0.90380\tvalidation_1-auc:0.86268\n",
      "[402]\tvalidation_0-auc:0.90390\tvalidation_1-auc:0.86269\n",
      "[403]\tvalidation_0-auc:0.90399\tvalidation_1-auc:0.86269\n",
      "[404]\tvalidation_0-auc:0.90409\tvalidation_1-auc:0.86269\n",
      "[405]\tvalidation_0-auc:0.90417\tvalidation_1-auc:0.86269\n",
      "[406]\tvalidation_0-auc:0.90425\tvalidation_1-auc:0.86268\n",
      "[407]\tvalidation_0-auc:0.90434\tvalidation_1-auc:0.86269\n",
      "[408]\tvalidation_0-auc:0.90442\tvalidation_1-auc:0.86269\n",
      "[409]\tvalidation_0-auc:0.90453\tvalidation_1-auc:0.86269\n",
      "[410]\tvalidation_0-auc:0.90461\tvalidation_1-auc:0.86270\n",
      "[411]\tvalidation_0-auc:0.90469\tvalidation_1-auc:0.86269\n",
      "[412]\tvalidation_0-auc:0.90477\tvalidation_1-auc:0.86269\n",
      "[413]\tvalidation_0-auc:0.90484\tvalidation_1-auc:0.86269\n",
      "[414]\tvalidation_0-auc:0.90492\tvalidation_1-auc:0.86268\n",
      "[415]\tvalidation_0-auc:0.90500\tvalidation_1-auc:0.86269\n",
      "[416]\tvalidation_0-auc:0.90509\tvalidation_1-auc:0.86267\n",
      "[417]\tvalidation_0-auc:0.90517\tvalidation_1-auc:0.86268\n",
      "[418]\tvalidation_0-auc:0.90524\tvalidation_1-auc:0.86267\n",
      "[419]\tvalidation_0-auc:0.90534\tvalidation_1-auc:0.86267\n",
      "[420]\tvalidation_0-auc:0.90543\tvalidation_1-auc:0.86267\n",
      "[421]\tvalidation_0-auc:0.90548\tvalidation_1-auc:0.86265\n",
      "[422]\tvalidation_0-auc:0.90553\tvalidation_1-auc:0.86263\n",
      "[423]\tvalidation_0-auc:0.90563\tvalidation_1-auc:0.86264\n",
      "[424]\tvalidation_0-auc:0.90573\tvalidation_1-auc:0.86262\n",
      "[425]\tvalidation_0-auc:0.90580\tvalidation_1-auc:0.86261\n",
      "[426]\tvalidation_0-auc:0.90589\tvalidation_1-auc:0.86260\n",
      "Stopping. Best iteration:\n",
      "[376]\tvalidation_0-auc:0.90129\tvalidation_1-auc:0.86271\n",
      "\n"
     ]
    },
    {
     "data": {
      "text/plain": [
       "XGBClassifier(base_score=0.5, booster='gbtree', colsample_bylevel=1,\n",
       "              colsample_bynode=1, colsample_bytree=1, eta=0.01, gamma=0,\n",
       "              gpu_id=-1, importance_type='gain', interaction_constraints='',\n",
       "              learning_rate=0.00999999978, max_delta_step=0, max_depth=9,\n",
       "              min_child_weight=1, missing=nan, monotone_constraints='()',\n",
       "              n_estimators=1000, n_jobs=0, num_parallel_tree=1,\n",
       "              objective='binary:logistic', random_state=0, reg_alpha=0,\n",
       "              reg_lambda=1, scale_pos_weight=1, subsample=1,\n",
       "              tree_method='exact', validate_parameters=1, verbosity=None)"
      ]
     },
     "execution_count": 107,
     "metadata": {},
     "output_type": "execute_result"
    }
   ],
   "source": [
    "# optimizing the Xgboost model\n",
    "\n",
    "xgb_model=XGBClassifier(eta=0.01,n_estimators=1000, max_depth=6)\n",
    "eval_set=[(x_train,y_train),(x_test,y_test)]\n",
    "xgb_model.fit(x_train, y_train, eval_metric=\"auc\", eval_set=eval_set, verbose=True,early_stopping_rounds=50)"
   ]
  },
  {
   "cell_type": "code",
   "execution_count": 110,
   "metadata": {},
   "outputs": [
    {
     "data": {
      "text/plain": [
       "XGBClassifier(base_score=0.5, booster='gbtree', colsample_bylevel=1,\n",
       "              colsample_bynode=1, colsample_bytree=1, eta=0.01, gamma=0,\n",
       "              gpu_id=-1, importance_type='gain', interaction_constraints='',\n",
       "              learning_rate=0.00999999978, max_delta_step=0, max_depth=6,\n",
       "              min_child_weight=1, missing=nan, monotone_constraints='()',\n",
       "              n_estimators=868, n_jobs=0, num_parallel_tree=1,\n",
       "              objective='binary:logistic', random_state=0, reg_alpha=0,\n",
       "              reg_lambda=1, scale_pos_weight=1, subsample=1,\n",
       "              tree_method='exact', validate_parameters=1, verbosity=None)"
      ]
     },
     "execution_count": 110,
     "metadata": {},
     "output_type": "execute_result"
    }
   ],
   "source": [
    "# using the whole \"FullData\" dataset as the training data, using the model with eta=0.01 and n_estimators=868 to train the data\n",
    "\n",
    "xgb_model=XGBClassifier(eta=0.01,n_estimators=868, max_depth=6)\n",
    "xgb_model.fit(dx, dy)"
   ]
  },
  {
   "cell_type": "code",
   "execution_count": 97,
   "metadata": {},
   "outputs": [
    {
     "data": {
      "text/plain": [
       "(101503, 12)"
      ]
     },
     "execution_count": 97,
     "metadata": {},
     "output_type": "execute_result"
    }
   ],
   "source": [
    "# read the testing data\n",
    "\n",
    "TestData=pd.read_csv('cs-test.csv')\n",
    "TestData.shape"
   ]
  },
  {
   "cell_type": "code",
   "execution_count": 98,
   "metadata": {},
   "outputs": [
    {
     "data": {
      "text/html": [
       "<div>\n",
       "<style scoped>\n",
       "    .dataframe tbody tr th:only-of-type {\n",
       "        vertical-align: middle;\n",
       "    }\n",
       "\n",
       "    .dataframe tbody tr th {\n",
       "        vertical-align: top;\n",
       "    }\n",
       "\n",
       "    .dataframe thead th {\n",
       "        text-align: right;\n",
       "    }\n",
       "</style>\n",
       "<table border=\"1\" class=\"dataframe\">\n",
       "  <thead>\n",
       "    <tr style=\"text-align: right;\">\n",
       "      <th></th>\n",
       "      <th>Unnamed: 0</th>\n",
       "      <th>SeriousDlqin2yrs</th>\n",
       "      <th>RevolvingUtilizationOfUnsecuredLines</th>\n",
       "      <th>age</th>\n",
       "      <th>NumberOfTime30-59DaysPastDueNotWorse</th>\n",
       "      <th>DebtRatio</th>\n",
       "      <th>MonthlyIncome</th>\n",
       "      <th>NumberOfOpenCreditLinesAndLoans</th>\n",
       "      <th>NumberOfTimes90DaysLate</th>\n",
       "      <th>NumberRealEstateLoansOrLines</th>\n",
       "      <th>NumberOfTime60-89DaysPastDueNotWorse</th>\n",
       "      <th>NumberOfDependents</th>\n",
       "    </tr>\n",
       "  </thead>\n",
       "  <tbody>\n",
       "    <tr>\n",
       "      <th>0</th>\n",
       "      <td>1</td>\n",
       "      <td>NaN</td>\n",
       "      <td>0.885519</td>\n",
       "      <td>43</td>\n",
       "      <td>0</td>\n",
       "      <td>0.177513</td>\n",
       "      <td>5700.0</td>\n",
       "      <td>4</td>\n",
       "      <td>0</td>\n",
       "      <td>0</td>\n",
       "      <td>0</td>\n",
       "      <td>0.0</td>\n",
       "    </tr>\n",
       "    <tr>\n",
       "      <th>1</th>\n",
       "      <td>2</td>\n",
       "      <td>NaN</td>\n",
       "      <td>0.463295</td>\n",
       "      <td>57</td>\n",
       "      <td>0</td>\n",
       "      <td>0.527237</td>\n",
       "      <td>9141.0</td>\n",
       "      <td>15</td>\n",
       "      <td>0</td>\n",
       "      <td>4</td>\n",
       "      <td>0</td>\n",
       "      <td>2.0</td>\n",
       "    </tr>\n",
       "    <tr>\n",
       "      <th>2</th>\n",
       "      <td>3</td>\n",
       "      <td>NaN</td>\n",
       "      <td>0.043275</td>\n",
       "      <td>59</td>\n",
       "      <td>0</td>\n",
       "      <td>0.687648</td>\n",
       "      <td>5083.0</td>\n",
       "      <td>12</td>\n",
       "      <td>0</td>\n",
       "      <td>1</td>\n",
       "      <td>0</td>\n",
       "      <td>2.0</td>\n",
       "    </tr>\n",
       "    <tr>\n",
       "      <th>3</th>\n",
       "      <td>4</td>\n",
       "      <td>NaN</td>\n",
       "      <td>0.280308</td>\n",
       "      <td>38</td>\n",
       "      <td>1</td>\n",
       "      <td>0.925961</td>\n",
       "      <td>3200.0</td>\n",
       "      <td>7</td>\n",
       "      <td>0</td>\n",
       "      <td>2</td>\n",
       "      <td>0</td>\n",
       "      <td>0.0</td>\n",
       "    </tr>\n",
       "    <tr>\n",
       "      <th>4</th>\n",
       "      <td>5</td>\n",
       "      <td>NaN</td>\n",
       "      <td>1.000000</td>\n",
       "      <td>27</td>\n",
       "      <td>0</td>\n",
       "      <td>0.019917</td>\n",
       "      <td>3865.0</td>\n",
       "      <td>4</td>\n",
       "      <td>0</td>\n",
       "      <td>0</td>\n",
       "      <td>0</td>\n",
       "      <td>1.0</td>\n",
       "    </tr>\n",
       "  </tbody>\n",
       "</table>\n",
       "</div>"
      ],
      "text/plain": [
       "   Unnamed: 0  SeriousDlqin2yrs  RevolvingUtilizationOfUnsecuredLines  age  \\\n",
       "0           1               NaN                              0.885519   43   \n",
       "1           2               NaN                              0.463295   57   \n",
       "2           3               NaN                              0.043275   59   \n",
       "3           4               NaN                              0.280308   38   \n",
       "4           5               NaN                              1.000000   27   \n",
       "\n",
       "   NumberOfTime30-59DaysPastDueNotWorse  DebtRatio  MonthlyIncome  \\\n",
       "0                                     0   0.177513         5700.0   \n",
       "1                                     0   0.527237         9141.0   \n",
       "2                                     0   0.687648         5083.0   \n",
       "3                                     1   0.925961         3200.0   \n",
       "4                                     0   0.019917         3865.0   \n",
       "\n",
       "   NumberOfOpenCreditLinesAndLoans  NumberOfTimes90DaysLate  \\\n",
       "0                                4                        0   \n",
       "1                               15                        0   \n",
       "2                               12                        0   \n",
       "3                                7                        0   \n",
       "4                                4                        0   \n",
       "\n",
       "   NumberRealEstateLoansOrLines  NumberOfTime60-89DaysPastDueNotWorse  \\\n",
       "0                             0                                     0   \n",
       "1                             4                                     0   \n",
       "2                             1                                     0   \n",
       "3                             2                                     0   \n",
       "4                             0                                     0   \n",
       "\n",
       "   NumberOfDependents  \n",
       "0                 0.0  \n",
       "1                 2.0  \n",
       "2                 2.0  \n",
       "3                 0.0  \n",
       "4                 1.0  "
      ]
     },
     "execution_count": 98,
     "metadata": {},
     "output_type": "execute_result"
    }
   ],
   "source": [
    "TestData.head()"
   ]
  },
  {
   "cell_type": "code",
   "execution_count": 99,
   "metadata": {},
   "outputs": [
    {
     "data": {
      "text/html": [
       "<div>\n",
       "<style scoped>\n",
       "    .dataframe tbody tr th:only-of-type {\n",
       "        vertical-align: middle;\n",
       "    }\n",
       "\n",
       "    .dataframe tbody tr th {\n",
       "        vertical-align: top;\n",
       "    }\n",
       "\n",
       "    .dataframe thead th {\n",
       "        text-align: right;\n",
       "    }\n",
       "</style>\n",
       "<table border=\"1\" class=\"dataframe\">\n",
       "  <thead>\n",
       "    <tr style=\"text-align: right;\">\n",
       "      <th></th>\n",
       "      <th>RevolvingUtilizationOfUnsecuredLines</th>\n",
       "      <th>age</th>\n",
       "      <th>NumberOfTime30-59DaysPastDueNotWorse</th>\n",
       "      <th>DebtRatio</th>\n",
       "      <th>MonthlyIncome</th>\n",
       "      <th>NumberOfOpenCreditLinesAndLoans</th>\n",
       "      <th>NumberOfTimes90DaysLate</th>\n",
       "      <th>NumberRealEstateLoansOrLines</th>\n",
       "      <th>NumberOfTime60-89DaysPastDueNotWorse</th>\n",
       "      <th>NumberOfDependents</th>\n",
       "    </tr>\n",
       "  </thead>\n",
       "  <tbody>\n",
       "    <tr>\n",
       "      <th>0</th>\n",
       "      <td>0.885519</td>\n",
       "      <td>43</td>\n",
       "      <td>0</td>\n",
       "      <td>0.177513</td>\n",
       "      <td>5700.0</td>\n",
       "      <td>4</td>\n",
       "      <td>0</td>\n",
       "      <td>0</td>\n",
       "      <td>0</td>\n",
       "      <td>0.0</td>\n",
       "    </tr>\n",
       "    <tr>\n",
       "      <th>1</th>\n",
       "      <td>0.463295</td>\n",
       "      <td>57</td>\n",
       "      <td>0</td>\n",
       "      <td>0.527237</td>\n",
       "      <td>9141.0</td>\n",
       "      <td>15</td>\n",
       "      <td>0</td>\n",
       "      <td>4</td>\n",
       "      <td>0</td>\n",
       "      <td>2.0</td>\n",
       "    </tr>\n",
       "    <tr>\n",
       "      <th>2</th>\n",
       "      <td>0.043275</td>\n",
       "      <td>59</td>\n",
       "      <td>0</td>\n",
       "      <td>0.687648</td>\n",
       "      <td>5083.0</td>\n",
       "      <td>12</td>\n",
       "      <td>0</td>\n",
       "      <td>1</td>\n",
       "      <td>0</td>\n",
       "      <td>2.0</td>\n",
       "    </tr>\n",
       "    <tr>\n",
       "      <th>3</th>\n",
       "      <td>0.280308</td>\n",
       "      <td>38</td>\n",
       "      <td>1</td>\n",
       "      <td>0.925961</td>\n",
       "      <td>3200.0</td>\n",
       "      <td>7</td>\n",
       "      <td>0</td>\n",
       "      <td>2</td>\n",
       "      <td>0</td>\n",
       "      <td>0.0</td>\n",
       "    </tr>\n",
       "    <tr>\n",
       "      <th>4</th>\n",
       "      <td>1.000000</td>\n",
       "      <td>27</td>\n",
       "      <td>0</td>\n",
       "      <td>0.019917</td>\n",
       "      <td>3865.0</td>\n",
       "      <td>4</td>\n",
       "      <td>0</td>\n",
       "      <td>0</td>\n",
       "      <td>0</td>\n",
       "      <td>1.0</td>\n",
       "    </tr>\n",
       "  </tbody>\n",
       "</table>\n",
       "</div>"
      ],
      "text/plain": [
       "   RevolvingUtilizationOfUnsecuredLines  age  \\\n",
       "0                              0.885519   43   \n",
       "1                              0.463295   57   \n",
       "2                              0.043275   59   \n",
       "3                              0.280308   38   \n",
       "4                              1.000000   27   \n",
       "\n",
       "   NumberOfTime30-59DaysPastDueNotWorse  DebtRatio  MonthlyIncome  \\\n",
       "0                                     0   0.177513         5700.0   \n",
       "1                                     0   0.527237         9141.0   \n",
       "2                                     0   0.687648         5083.0   \n",
       "3                                     1   0.925961         3200.0   \n",
       "4                                     0   0.019917         3865.0   \n",
       "\n",
       "   NumberOfOpenCreditLinesAndLoans  NumberOfTimes90DaysLate  \\\n",
       "0                                4                        0   \n",
       "1                               15                        0   \n",
       "2                               12                        0   \n",
       "3                                7                        0   \n",
       "4                                4                        0   \n",
       "\n",
       "   NumberRealEstateLoansOrLines  NumberOfTime60-89DaysPastDueNotWorse  \\\n",
       "0                             0                                     0   \n",
       "1                             4                                     0   \n",
       "2                             1                                     0   \n",
       "3                             2                                     0   \n",
       "4                             0                                     0   \n",
       "\n",
       "   NumberOfDependents  \n",
       "0                 0.0  \n",
       "1                 2.0  \n",
       "2                 2.0  \n",
       "3                 0.0  \n",
       "4                 1.0  "
      ]
     },
     "execution_count": 99,
     "metadata": {},
     "output_type": "execute_result"
    }
   ],
   "source": [
    "TestData=TestData.drop(['Unnamed: 0', 'SeriousDlqin2yrs'], axis=1)\n",
    "TestData.head()"
   ]
  },
  {
   "cell_type": "code",
   "execution_count": 111,
   "metadata": {},
   "outputs": [],
   "source": [
    "FinalPredict=xgb_model.predict_proba(TestData)\n",
    "FinalResult=pd.DataFrame({'Id': np.arange(1, len(TestData)+1,1),\n",
    "                         'Probability':FinalPredict[:,1]})\n",
    "FinalResult.to_csv('FinalResult.csv', index=False)"
   ]
  },
  {
   "cell_type": "markdown",
   "metadata": {},
   "source": [
    "The final auc is 0.86562."
   ]
  },
  {
   "cell_type": "code",
   "execution_count": null,
   "metadata": {},
   "outputs": [],
   "source": []
  }
 ],
 "metadata": {
  "kernelspec": {
   "display_name": "Python 3",
   "language": "python",
   "name": "python3"
  },
  "language_info": {
   "codemirror_mode": {
    "name": "ipython",
    "version": 3
   },
   "file_extension": ".py",
   "mimetype": "text/x-python",
   "name": "python",
   "nbconvert_exporter": "python",
   "pygments_lexer": "ipython3",
   "version": "3.7.6"
  }
 },
 "nbformat": 4,
 "nbformat_minor": 4
}
